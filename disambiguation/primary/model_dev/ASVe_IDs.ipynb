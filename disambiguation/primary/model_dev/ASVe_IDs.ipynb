{
 "cells": [
  {
   "cell_type": "code",
   "execution_count": 1,
   "metadata": {
    "collapsed": true
   },
   "outputs": [],
   "source": [
    "%matplotlib inline\n",
    "import matplotlib.pyplot as plt\n",
    "plt.style.use('ggplot')\n",
    "\n",
    "# Eventually, for Anaconda warnings.\n",
    "# Can be commented out.\n",
    "import warnings\n",
    "warnings.filterwarnings(\"ignore\")\n",
    "\n",
    "%matplotlib inline\n",
    "%load_ext autoreload\n",
    "%autoreload 2"
   ]
  },
  {
   "cell_type": "code",
   "execution_count": 30,
   "metadata": {
    "collapsed": false
   },
   "outputs": [],
   "source": [
    "# Load basic libraries\n",
    "import seaborn; seaborn.set()\n",
    "from itertools import chain\n",
    "from collections import OrderedDict\n",
    "import pickle, copy, random\n",
    "random.seed(100)\n",
    "import numpy as np\n",
    "import scipy.stats"
   ]
  },
  {
   "cell_type": "code",
   "execution_count": 3,
   "metadata": {
    "collapsed": true
   },
   "outputs": [],
   "source": [
    "data = pickle.load(open(\"data.p\",\"rb\"))"
   ]
  },
  {
   "cell_type": "code",
   "execution_count": 4,
   "metadata": {
    "collapsed": false
   },
   "outputs": [
    {
     "name": "stdout",
     "output_type": "stream",
     "text": [
      "67954\n",
      "46961\n",
      "20993\n"
     ]
    }
   ],
   "source": [
    "# check data\n",
    "print(len(data))\n",
    "print(len([x for x,y in data.items() if y[\"y\"]==0]))\n",
    "print(len([x for x,y in data.items() if y[\"y\"]==1]))"
   ]
  },
  {
   "cell_type": "code",
   "execution_count": 5,
   "metadata": {
    "collapsed": false
   },
   "outputs": [
    {
     "data": {
      "text/plain": [
       "{'asve': 'IT:ASVe:0645',\n",
       " 'components': [(1, 'A.S.V.,', 'archive'),\n",
       "  (2, 'Provveditori sopra Feudi,', 'archivalreference'),\n",
       "  (3, 'busta 203.', 'box')],\n",
       " 'disamb_id': '5917363bb9123b1cd37b1e11',\n",
       " 'ref_type': 'primary',\n",
       " 'surface': 'A.S.V., Provveditori sopra Feudi, busta 203.',\n",
       " 'y': 1}"
      ]
     },
     "execution_count": 5,
     "metadata": {},
     "output_type": "execute_result"
    }
   ],
   "source": [
    "data['58e4ce01fe7683152b59e56e']"
   ]
  },
  {
   "cell_type": "code",
   "execution_count": 6,
   "metadata": {
    "collapsed": false
   },
   "outputs": [],
   "source": [
    "from supporting_functions import cleanup\n",
    "data_docs = [cleanup(x[\"surface\"]) for x in data.values() if x[\"y\"]==1]\n",
    "data_targets = [x[\"asve\"] for x in data.values() if x[\"y\"]==1]"
   ]
  },
  {
   "cell_type": "code",
   "execution_count": 7,
   "metadata": {
    "collapsed": false
   },
   "outputs": [
    {
     "data": {
      "text/plain": [
       "'schulemburg b. febbraio'"
      ]
     },
     "execution_count": 7,
     "metadata": {},
     "output_type": "execute_result"
    }
   ],
   "source": [
    "data_docs[11]"
   ]
  },
  {
   "cell_type": "code",
   "execution_count": 8,
   "metadata": {
    "collapsed": false
   },
   "outputs": [
    {
     "data": {
      "text/plain": [
       "'IT:ASVe:0275'"
      ]
     },
     "execution_count": 8,
     "metadata": {},
     "output_type": "execute_result"
    }
   ],
   "source": [
    "data_targets[11]"
   ]
  },
  {
   "cell_type": "code",
   "execution_count": 28,
   "metadata": {
    "collapsed": true
   },
   "outputs": [],
   "source": [
    "# cleanup targets\n",
    "# calculate a dict of occurrences\n",
    "# replace infrequent observations but if possibly consolidate to a higher level\n",
    "freq_dict = {x:len([z for z in data_targets if z==x]) for x in data_targets}"
   ]
  },
  {
   "cell_type": "code",
   "execution_count": 33,
   "metadata": {
    "collapsed": false
   },
   "outputs": [],
   "source": [
    "freq_dict = OrderedDict(sorted(freq_dict.items(),key=lambda x:x[1]))"
   ]
  },
  {
   "cell_type": "code",
   "execution_count": 34,
   "metadata": {
    "collapsed": false
   },
   "outputs": [],
   "source": [
    "threshold = 5\n",
    "discard_list = list()\n",
    "consolidate_dict = {x:x for x in freq_dict.keys()}\n",
    "for x,y in freq_dict.items():\n",
    "    if y < threshold:\n",
    "        if len(x.split(\".\")) == 1:\n",
    "            discard_list.append(x)\n",
    "        else:\n",
    "            for n in range(1,len(x.split(\".\"))):\n",
    "                new_id = \".\".join(x.split(\".\")[:-n])\n",
    "                if new_id in freq_dict.keys() and freq_dict[new_id] >= threshold:\n",
    "                    consolidate_dict[x] = new_id\n",
    "                    break"
   ]
  },
  {
   "cell_type": "code",
   "execution_count": 41,
   "metadata": {
    "collapsed": false
   },
   "outputs": [],
   "source": [
    "# consolidate\n",
    "data_docs = [cleanup(x[\"surface\"]) for x in data.values() if x[\"y\"]==1 and not x[\"asve\"] in discard_list]\n",
    "data_targets = [consolidate_dict[x[\"asve\"]] for x in data.values() if x[\"y\"]==1 and not x[\"asve\"] in discard_list]"
   ]
  },
  {
   "cell_type": "code",
   "execution_count": 44,
   "metadata": {
    "collapsed": true
   },
   "outputs": [],
   "source": [
    "# train test\n",
    "from sklearn.model_selection import train_test_split\n",
    "# TRAIN/TEST\n",
    "X_train, X_test, y_train, y_test = train_test_split(data_docs, data_targets, test_size=0.25)"
   ]
  },
  {
   "cell_type": "code",
   "execution_count": 16,
   "metadata": {
    "collapsed": false
   },
   "outputs": [],
   "source": [
    "# baseline model\n",
    "from sklearn.feature_extraction.text import CountVectorizer,TfidfTransformer\n",
    "from sklearn.naive_bayes import MultinomialNB\n",
    "from sklearn.linear_model import SGDClassifier\n",
    "from sklearn.svm import LinearSVC\n",
    "from sklearn.ensemble import RandomForestClassifier\n",
    "from sklearn.pipeline import Pipeline\n",
    "#text_clf = Pipeline([('vect', CountVectorizer()),\n",
    "#                        ('tfidf', TfidfTransformer()),\n",
    "#                        ('clf', MultinomialNB())])\n",
    "#text_clf = Pipeline([('vect', CountVectorizer()),\n",
    "#                        ('tfidf', TfidfTransformer()),\n",
    "#                        ('clf', SGDClassifier(loss='hinge', penalty='l2',alpha=1e-3, n_iter=5, random_state=42))])\n",
    "#text_clf = Pipeline([('vect', CountVectorizer()),\n",
    "#                        ('tfidf', TfidfTransformer()),\n",
    "#                        ('clf', SGDClassifier(loss='hinge', penalty='l2',alpha=1e-3, n_iter=5, random_state=42))])\n",
    "text_clf = Pipeline([('vect', CountVectorizer()),\n",
    "                        ('tfidf', TfidfTransformer()),\n",
    "                        ('clf', RandomForestClassifier(n_estimators=100, criterion='gini', max_depth=None, n_jobs=1, random_state=100))])"
   ]
  },
  {
   "cell_type": "code",
   "execution_count": 11,
   "metadata": {
    "collapsed": false
   },
   "outputs": [],
   "source": [
    "text_clf = text_clf.fit(X_train, y_train)"
   ]
  },
  {
   "cell_type": "code",
   "execution_count": 12,
   "metadata": {
    "collapsed": false
   },
   "outputs": [
    {
     "data": {
      "text/plain": [
       "0.89655172413793105"
      ]
     },
     "execution_count": 12,
     "metadata": {},
     "output_type": "execute_result"
    }
   ],
   "source": [
    "base_predicted = text_clf.predict(X_test)\n",
    "probs = text_clf.predict_proba(X_test)\n",
    "np.mean(base_predicted == y_test)"
   ]
  },
  {
   "cell_type": "code",
   "execution_count": 21,
   "metadata": {
    "collapsed": false
   },
   "outputs": [],
   "source": [
    "# Grid search\n",
    "from sklearn.model_selection import GridSearchCV\n",
    "\n",
    "text_clf = Pipeline([('vect', CountVectorizer()),\n",
    "                        ('tfidf', TfidfTransformer()),\n",
    "                        ('clf', LinearSVC())])\n",
    "parameters = {'vect__ngram_range': [(1,1),(1,3),(1,5)],\n",
    "                'tfidf__use_idf': (True, False),\n",
    "                  'clf__dual': (True,False),\n",
    "                 'clf__C': (1,0.1,0.01,0.001)}\n",
    "\"\"\"\n",
    "text_clf = Pipeline([('vect', CountVectorizer()),\n",
    "                        ('tfidf', TfidfTransformer()),\n",
    "                        ('clf', RandomForestClassifier())])\n",
    "parameters = {'vect__ngram_range': [(1,1),(1,2),(1, 3), (1, 4), (1, 5)],\n",
    "                'tfidf__use_idf': (True, False),\n",
    "                'clf__n_estimators': (10,50,100,500),\n",
    "                 'clf__criterion': ('gini'),\n",
    "                 'clf__max_depth': (None,5,10,50)}\n",
    "\"\"\"\n",
    "gs_clf = GridSearchCV(text_clf, parameters, n_jobs=2)\n",
    "gs_clf = gs_clf.fit(X_train,y_train)"
   ]
  },
  {
   "cell_type": "code",
   "execution_count": 22,
   "metadata": {
    "collapsed": false
   },
   "outputs": [
    {
     "name": "stdout",
     "output_type": "stream",
     "text": [
      "0.913490853659\n",
      "clf__C: 1\n",
      "clf__dual: True\n",
      "tfidf__use_idf: True\n",
      "vect__ngram_range: (1, 3)\n"
     ]
    }
   ],
   "source": [
    "print(gs_clf.best_score_)\n",
    "for param_name in sorted(parameters.keys()):\n",
    "    print(\"%s: %r\" % (param_name, gs_clf.best_params_[param_name]))"
   ]
  },
  {
   "cell_type": "code",
   "execution_count": 45,
   "metadata": {
    "collapsed": true
   },
   "outputs": [],
   "source": [
    "# final baseline model\n",
    "#text_clf = Pipeline([('vect', CountVectorizer(ngram_range=(1,3))),\n",
    "#                        ('tfidf', TfidfTransformer(use_idf=True)),\n",
    "#                        ('clf', MultinomialNB(alpha=0.01))])\n",
    "text_clf = Pipeline([('vect', CountVectorizer(ngram_range=(1,3))),\n",
    "                        ('tfidf', TfidfTransformer(use_idf=True)),\n",
    "                        ('clf', LinearSVC(C=1,dual=True))])"
   ]
  },
  {
   "cell_type": "code",
   "execution_count": 46,
   "metadata": {
    "collapsed": true
   },
   "outputs": [],
   "source": [
    "text_clf = text_clf.fit(X_train, y_train)"
   ]
  },
  {
   "cell_type": "code",
   "execution_count": 47,
   "metadata": {
    "collapsed": false
   },
   "outputs": [
    {
     "data": {
      "text/plain": [
       "0.93145937620331154"
      ]
     },
     "execution_count": 47,
     "metadata": {},
     "output_type": "execute_result"
    }
   ],
   "source": [
    "base_predicted = text_clf.predict(X_test)\n",
    "np.mean(base_predicted == y_test)"
   ]
  },
  {
   "cell_type": "code",
   "execution_count": 48,
   "metadata": {
    "collapsed": false
   },
   "outputs": [
    {
     "name": "stdout",
     "output_type": "stream",
     "text": [
      "                              precision    recall  f1-score   support\n",
      "\n",
      "                IT:ASVe:0005       1.00      0.80      0.89         5\n",
      "                IT:ASVe:0010       0.94      0.94      0.94        34\n",
      "            IT:ASVe:0010.001       0.95      0.89      0.92        45\n",
      "                IT:ASVe:0015       0.60      0.38      0.46         8\n",
      "            IT:ASVe:0015.001       0.76      1.00      0.87        13\n",
      "        IT:ASVe:0015.001.001       0.83      0.62      0.71         8\n",
      "        IT:ASVe:0015.001.002       0.80      1.00      0.89         4\n",
      "        IT:ASVe:0015.001.003       1.00      1.00      1.00         3\n",
      "            IT:ASVe:0015.002       0.96      0.88      0.92        26\n",
      "            IT:ASVe:0015.003       0.70      1.00      0.82         7\n",
      "            IT:ASVe:0015.004       1.00      1.00      1.00        13\n",
      "        IT:ASVe:0015.004.001       1.00      0.50      0.67         4\n",
      "            IT:ASVe:0020.001       1.00      1.00      1.00         1\n",
      "                IT:ASVe:0025       1.00      0.50      0.67         2\n",
      "                IT:ASVe:0030       0.88      0.92      0.90        25\n",
      "            IT:ASVe:0030.010       1.00      0.92      0.96        36\n",
      "            IT:ASVe:0030.020       0.80      0.86      0.83        14\n",
      "            IT:ASVe:0030.045       1.00      1.00      1.00        10\n",
      "            IT:ASVe:0030.055       1.00      1.00      1.00        25\n",
      "            IT:ASVe:0030.070       1.00      0.82      0.90        11\n",
      "            IT:ASVe:0030.075       0.65      0.71      0.68        24\n",
      "        IT:ASVe:0030.076.010       0.50      0.29      0.36         7\n",
      "            IT:ASVe:0030.135       1.00      1.00      1.00         2\n",
      "                IT:ASVe:0035       1.00      0.86      0.92         7\n",
      "                IT:ASVe:0040       1.00      0.60      0.75        10\n",
      "            IT:ASVe:0040.005       1.00      0.17      0.29         6\n",
      "        IT:ASVe:0040.005.005       0.98      0.95      0.96       128\n",
      "        IT:ASVe:0040.005.015       0.82      0.85      0.84       111\n",
      "    IT:ASVe:0040.005.015.005       1.00      0.78      0.88         9\n",
      "        IT:ASVe:0040.005.020       0.94      0.97      0.95       288\n",
      "        IT:ASVe:0040.005.025       0.94      0.92      0.93       174\n",
      "        IT:ASVe:0040.005.030       1.00      0.88      0.93         8\n",
      "        IT:ASVe:0040.005.035       0.97      0.97      0.97        32\n",
      "        IT:ASVe:0040.005.040       0.96      0.98      0.97        46\n",
      "        IT:ASVe:0040.005.050       1.00      0.84      0.91        19\n",
      "        IT:ASVe:0040.005.055       0.95      0.97      0.96        79\n",
      "        IT:ASVe:0040.005.065       0.93      0.93      0.93       150\n",
      "        IT:ASVe:0040.005.080       1.00      1.00      1.00         1\n",
      "        IT:ASVe:0040.005.102       0.98      0.98      0.98        63\n",
      "        IT:ASVe:0040.005.105       0.75      1.00      0.86         3\n",
      "        IT:ASVe:0040.005.107       1.00      1.00      1.00         6\n",
      "        IT:ASVe:0040.005.115       1.00      0.75      0.86         4\n",
      "        IT:ASVe:0040.005.165       1.00      1.00      1.00         3\n",
      "            IT:ASVe:0040.010       1.00      0.50      0.67         2\n",
      "        IT:ASVe:0040.010.002       1.00      0.08      0.15        12\n",
      "    IT:ASVe:0040.010.002.001       0.84      0.97      0.90        33\n",
      "    IT:ASVe:0040.010.002.004       0.98      0.98      0.98        63\n",
      "    IT:ASVe:0040.010.002.005       0.97      1.00      0.98        60\n",
      "    IT:ASVe:0040.010.002.006       1.00      1.00      1.00        29\n",
      "    IT:ASVe:0040.010.002.008       0.92      1.00      0.96        11\n",
      "    IT:ASVe:0040.010.002.011       0.94      1.00      0.97        16\n",
      "    IT:ASVe:0040.010.002.012       1.00      1.00      1.00         1\n",
      "    IT:ASVe:0040.010.002.014       1.00      1.00      1.00        19\n",
      "    IT:ASVe:0040.010.002.015       1.00      1.00      1.00         7\n",
      "    IT:ASVe:0040.010.002.016       0.93      0.99      0.96        72\n",
      "    IT:ASVe:0040.010.002.017       0.00      0.00      0.00         1\n",
      "    IT:ASVe:0040.010.002.018       1.00      0.92      0.96        12\n",
      "    IT:ASVe:0040.010.002.020       0.95      1.00      0.97        19\n",
      "    IT:ASVe:0040.010.003.001       1.00      1.00      1.00         1\n",
      "        IT:ASVe:0040.010.004       1.00      0.17      0.29         6\n",
      "    IT:ASVe:0040.010.004.001       1.00      1.00      1.00         3\n",
      "    IT:ASVe:0040.010.004.003       1.00      0.50      0.67         2\n",
      "    IT:ASVe:0040.010.004.007       1.00      1.00      1.00         2\n",
      "    IT:ASVe:0040.010.004.008       0.75      1.00      0.86         3\n",
      "    IT:ASVe:0040.010.004.010       0.50      1.00      0.67         1\n",
      "    IT:ASVe:0040.010.004.011       1.00      0.50      0.67         2\n",
      "    IT:ASVe:0040.010.004.014       0.91      1.00      0.95        10\n",
      "    IT:ASVe:0040.010.004.015       1.00      0.50      0.67         2\n",
      "    IT:ASVe:0040.010.004.016       0.00      0.00      0.00         2\n",
      "    IT:ASVe:0040.010.004.017       1.00      1.00      1.00         1\n",
      "    IT:ASVe:0040.010.004.019       0.00      0.00      0.00         2\n",
      "    IT:ASVe:0040.010.004.020       1.00      1.00      1.00         3\n",
      "    IT:ASVe:0040.010.004.021       0.91      1.00      0.95        20\n",
      "        IT:ASVe:0040.010.005       0.92      0.92      0.92       101\n",
      "    IT:ASVe:0040.010.005.101       0.00      0.00      0.00         2\n",
      "                IT:ASVe:0045       1.00      1.00      1.00         1\n",
      "            IT:ASVe:0045.001       0.00      0.00      0.00         1\n",
      "        IT:ASVe:0045.001.001       0.92      0.98      0.95        83\n",
      "        IT:ASVe:0045.001.002       0.92      0.92      0.92        25\n",
      "        IT:ASVe:0045.001.003       0.99      1.00      0.99        74\n",
      "        IT:ASVe:0045.001.004       0.97      1.00      0.98        32\n",
      "        IT:ASVe:0045.001.006       1.00      0.50      0.67         2\n",
      "            IT:ASVe:0045.002       1.00      1.00      1.00         2\n",
      "        IT:ASVe:0045.006.002       0.75      0.60      0.67         5\n",
      "                IT:ASVe:0047       0.60      0.50      0.55         6\n",
      "            IT:ASVe:0047.007       0.89      0.89      0.89         9\n",
      "            IT:ASVe:0047.013       0.86      0.67      0.75         9\n",
      "            IT:ASVe:0047.014       0.86      0.97      0.91        31\n",
      "                IT:ASVe:0060       0.85      1.00      0.92        52\n",
      "                IT:ASVe:0150       0.00      0.00      0.00         7\n",
      "            IT:ASVe:0150.155       1.00      1.00      1.00         1\n",
      "            IT:ASVe:0150.175       1.00      1.00      1.00         2\n",
      "            IT:ASVe:0150.210       1.00      1.00      1.00        24\n",
      "                IT:ASVe:0255       1.00      0.60      0.75         5\n",
      "                IT:ASVe:0275       1.00      0.95      0.97        19\n",
      "                IT:ASVe:0280       1.00      1.00      1.00         4\n",
      "                IT:ASVe:0285       1.00      1.00      1.00         2\n",
      "                IT:ASVe:0295       1.00      1.00      1.00        46\n",
      "                IT:ASVe:0300       0.97      0.99      0.98        68\n",
      "                IT:ASVe:0310       1.00      0.75      0.86         4\n",
      "            IT:ASVe:0315.004       1.00      1.00      1.00         9\n",
      "                IT:ASVe:0320       1.00      0.88      0.93         8\n",
      "            IT:ASVe:0320.001       1.00      0.90      0.95        10\n",
      "            IT:ASVe:0320.005       1.00      0.75      0.86         4\n",
      "            IT:ASVe:0320.006       0.50      1.00      0.67         1\n",
      "            IT:ASVe:0320.008       0.96      1.00      0.98        22\n",
      "                IT:ASVe:0325       0.85      0.90      0.88        63\n",
      "            IT:ASVe:0325.010       0.75      0.90      0.82        10\n",
      "            IT:ASVe:0325.012       1.00      1.00      1.00         2\n",
      "        IT:ASVe:0325.012.002       0.50      1.00      0.67         4\n",
      "            IT:ASVe:0325.013       1.00      0.25      0.40         4\n",
      "        IT:ASVe:0325.013.001       0.80      0.67      0.73         6\n",
      "        IT:ASVe:0325.013.008       1.00      1.00      1.00         1\n",
      "            IT:ASVe:0325.017       0.60      0.75      0.67         4\n",
      "            IT:ASVe:0325.025       1.00      0.50      0.67         2\n",
      "        IT:ASVe:0325.027.001       1.00      0.50      0.67         2\n",
      "            IT:ASVe:0325.109       1.00      0.92      0.96        12\n",
      "            IT:ASVe:0325.111       1.00      0.67      0.80         3\n",
      "            IT:ASVe:0325.112       0.00      0.00      0.00         1\n",
      "                IT:ASVe:0335       1.00      0.94      0.97        17\n",
      "                IT:ASVe:0345       0.95      1.00      0.98        21\n",
      "                IT:ASVe:0355       0.97      0.94      0.95        33\n",
      "                IT:ASVe:0361       1.00      1.00      1.00        14\n",
      "                IT:ASVe:0370       0.96      1.00      0.98        22\n",
      "                IT:ASVe:0385       1.00      0.50      0.67         6\n",
      "                IT:ASVe:0390       1.00      1.00      1.00         9\n",
      "                IT:ASVe:0425       1.00      0.90      0.95        10\n",
      "                IT:ASVe:0435       1.00      1.00      1.00         3\n",
      "                IT:ASVe:0445       1.00      0.50      0.67         8\n",
      "    IT:ASVe:0445.010.001.001       0.82      0.97      0.89        37\n",
      "    IT:ASVe:0445.010.001.002       0.00      0.00      0.00         1\n",
      "    IT:ASVe:0445.010.001.004       1.00      0.40      0.57         5\n",
      "    IT:ASVe:0445.010.001.006       0.60      1.00      0.75         3\n",
      "IT:ASVe:0445.010.040.006.002       1.00      0.33      0.50         3\n",
      "                IT:ASVe:0460       1.00      1.00      1.00         4\n",
      "                IT:ASVe:0495       1.00      1.00      1.00        16\n",
      "                IT:ASVe:0510       1.00      1.00      1.00         4\n",
      "                IT:ASVe:0515       0.89      1.00      0.94        16\n",
      "                IT:ASVe:0525       1.00      1.00      1.00         4\n",
      "                IT:ASVe:0530       1.00      1.00      1.00         5\n",
      "                IT:ASVe:0545       1.00      0.96      0.98        28\n",
      "                IT:ASVe:0555       0.50      1.00      0.67         1\n",
      "                IT:ASVe:0560       1.00      0.83      0.91         6\n",
      "                IT:ASVe:0565       0.78      1.00      0.88         7\n",
      "                IT:ASVe:0580       0.86      0.88      0.87        34\n",
      "                IT:ASVe:0585       1.00      1.00      1.00         2\n",
      "                IT:ASVe:0600       1.00      1.00      1.00        27\n",
      "                IT:ASVe:0605       1.00      0.83      0.91         6\n",
      "                IT:ASVe:0610       0.59      0.67      0.62        15\n",
      "            IT:ASVe:0615.003       1.00      1.00      1.00         4\n",
      "                IT:ASVe:0640       1.00      1.00      1.00         5\n",
      "                IT:ASVe:0645       1.00      1.00      1.00        12\n",
      "                IT:ASVe:0650       1.00      1.00      1.00         3\n",
      "                IT:ASVe:0655       0.96      0.98      0.97        48\n",
      "                IT:ASVe:0705       0.96      0.96      0.96        52\n",
      "                IT:ASVe:0715       1.00      1.00      1.00         9\n",
      "                IT:ASVe:0720       0.85      0.85      0.85        20\n",
      "            IT:ASVe:0720.001       0.75      1.00      0.86         3\n",
      "            IT:ASVe:0720.070       0.80      1.00      0.89         4\n",
      "            IT:ASVe:0720.072       1.00      0.90      0.95        10\n",
      "                IT:ASVe:0725       1.00      0.95      0.98        21\n",
      "            IT:ASVe:0730.001       1.00      1.00      1.00         1\n",
      "                IT:ASVe:0735       1.00      1.00      1.00        11\n",
      "                IT:ASVe:0740       1.00      1.00      1.00         9\n",
      "                IT:ASVe:0745       0.96      0.92      0.94        25\n",
      "                IT:ASVe:0750       1.00      1.00      1.00         3\n",
      "                IT:ASVe:0755       0.96      0.99      0.98        83\n",
      "                IT:ASVe:0760       1.00      1.00      1.00         5\n",
      "                IT:ASVe:0765       0.92      1.00      0.96        11\n",
      "                IT:ASVe:0770       0.88      1.00      0.93         7\n",
      "                IT:ASVe:0775       1.00      1.00      1.00         1\n",
      "                IT:ASVe:0780       1.00      0.67      0.80         6\n",
      "                IT:ASVe:0785       0.95      0.97      0.96       285\n",
      "                IT:ASVe:0790       0.80      0.80      0.80         5\n",
      "                IT:ASVe:0795       0.95      0.98      0.96        41\n",
      "                IT:ASVe:0805       1.00      0.97      0.99        34\n",
      "                IT:ASVe:0810       0.96      0.96      0.96       102\n",
      "                IT:ASVe:0815       1.00      1.00      1.00         2\n",
      "                IT:ASVe:0825       1.00      1.00      1.00         6\n",
      "            IT:ASVe:0825.010       1.00      1.00      1.00         1\n",
      "            IT:ASVe:0830.060       1.00      1.00      1.00         1\n",
      "            IT:ASVe:0835.065       1.00      0.50      0.67         2\n",
      "                IT:ASVe:0840       1.00      0.80      0.89        20\n",
      "            IT:ASVe:0840.010       1.00      0.75      0.86         4\n",
      "            IT:ASVe:0840.030       1.00      1.00      1.00         1\n",
      "            IT:ASVe:0840.080       0.81      1.00      0.89        17\n",
      "        IT:ASVe:0845.010.001       0.00      0.00      0.00         1\n",
      "                IT:ASVe:0880       1.00      1.00      1.00         3\n",
      "                IT:ASVe:0895       1.00      1.00      1.00         5\n",
      "                IT:ASVe:0920       1.00      1.00      1.00         4\n",
      "                IT:ASVe:0930       1.00      1.00      1.00         2\n",
      "                IT:ASVe:0960       0.83      1.00      0.91         5\n",
      "                IT:ASVe:0965       1.00      0.83      0.91         6\n",
      "                IT:ASVe:0975       0.97      0.97      0.97        77\n",
      "                IT:ASVe:0980       0.88      1.00      0.93         7\n",
      "            IT:ASVe:0980.003       1.00      0.50      0.67         2\n",
      "                IT:ASVe:0990       1.00      0.67      0.80         3\n",
      "                IT:ASVe:1000       1.00      1.00      1.00         4\n",
      "                IT:ASVe:1010       1.00      1.00      1.00         1\n",
      "                IT:ASVe:1020       1.00      1.00      1.00         4\n",
      "                IT:ASVe:1030       1.00      1.00      1.00         5\n",
      "                IT:ASVe:1045       1.00      1.00      1.00         9\n",
      "                IT:ASVe:1070       1.00      0.60      0.75         5\n",
      "                IT:ASVe:1205       1.00      1.00      1.00         9\n",
      "                IT:ASVe:1505       0.67      0.50      0.57         4\n",
      "            IT:ASVe:1505.004       0.67      0.50      0.57         4\n",
      "                IT:ASVe:1510       1.00      1.00      1.00         2\n",
      "                IT:ASVe:1540       1.00      1.00      1.00         7\n",
      "                IT:ASVe:1595       0.75      1.00      0.86         3\n",
      "                IT:ASVe:1670       1.00      0.67      0.80         3\n",
      "                IT:ASVe:1705       1.00      1.00      1.00         5\n",
      "                IT:ASVe:1710       1.00      0.96      0.98        26\n",
      "                IT:ASVe:1830       0.89      1.00      0.94        24\n",
      "                IT:ASVe:2005       0.91      0.98      0.95        54\n",
      "                IT:ASVe:2006       1.00      0.96      0.98        23\n",
      "                IT:ASVe:2008       0.83      1.00      0.91         5\n",
      "                IT:ASVe:2020       0.50      1.00      0.67         4\n",
      "IT:ASVe:2090.001.002.001.003       0.67      1.00      0.80         2\n",
      "IT:ASVe:2090.001.002.003.004       0.71      1.00      0.83         5\n",
      "        IT:ASVe:2090.001.003       0.00      0.00      0.00         3\n",
      "            IT:ASVe:2090.004       1.00      1.00      1.00         6\n",
      "                IT:ASVe:2095       1.00      1.00      1.00         7\n",
      "            IT:ASVe:2180.001       1.00      1.00      1.00         2\n",
      "                IT:ASVe:2405       0.91      1.00      0.95        10\n",
      "                IT:ASVe:2520       0.80      1.00      0.89         4\n",
      "                IT:ASVe:2521       0.97      0.97      0.97        36\n",
      "                IT:ASVe:2555       1.00      1.00      1.00         3\n",
      "                IT:ASVe:2570       1.00      1.00      1.00         2\n",
      "                IT:ASVe:3002       1.00      0.92      0.96        25\n",
      "                IT:ASVe:3004       1.00      1.00      1.00        10\n",
      "                IT:ASVe:3008       1.00      1.00      1.00         2\n",
      "                IT:ASVe:3012       1.00      1.00      1.00        11\n",
      "                IT:ASVe:3014       1.00      1.00      1.00         8\n",
      "                IT:ASVe:3016       1.00      1.00      1.00         3\n",
      "                IT:ASVe:3020       0.83      1.00      0.91         5\n",
      "                IT:ASVe:3030       1.00      1.00      1.00         4\n",
      "                IT:ASVe:3046       0.83      1.00      0.91         5\n",
      "                IT:ASVe:3052       1.00      1.00      1.00        21\n",
      "                IT:ASVe:3056       1.00      1.00      1.00         1\n",
      "                IT:ASVe:3082       1.00      1.00      1.00         1\n",
      "                IT:ASVe:3088       1.00      1.00      1.00         4\n",
      "                IT:ASVe:3096       1.00      1.00      1.00         2\n",
      "                IT:ASVe:3102       1.00      1.00      1.00         2\n",
      "                IT:ASVe:3108       1.00      0.67      0.80         3\n",
      "                IT:ASVe:3190       1.00      1.00      1.00         2\n",
      "                IT:ASVe:3192       1.00      1.00      1.00        12\n",
      "                IT:ASVe:3505       0.94      0.94      0.94        54\n",
      "                IT:ASVe:3510       0.93      0.98      0.96       154\n",
      "                IT:ASVe:3525       1.00      0.62      0.77         8\n",
      "            IT:ASVe:3525.001       0.93      0.99      0.96       126\n",
      "                IT:ASVe:3540       1.00      1.00      1.00         4\n",
      "            IT:ASVe:3555.004       1.00      1.00      1.00         2\n",
      "        IT:ASVe:3805.001.003       1.00      1.00      1.00         2\n",
      "            IT:ASVe:3810.002       0.75      1.00      0.86         3\n",
      "            IT:ASVe:3810.006       0.80      1.00      0.89         4\n",
      "            IT:ASVe:3810.022       1.00      0.33      0.50         3\n",
      "                IT:ASVe:4000       0.87      0.80      0.83        25\n",
      "            IT:ASVe:4000.070       1.00      0.50      0.67         2\n",
      "            IT:ASVe:4020.005       0.00      0.00      0.00         1\n",
      "            IT:ASVe:4020.007       0.00      0.00      0.00         1\n",
      "            IT:ASVe:4020.012       1.00      0.50      0.67         2\n",
      "            IT:ASVe:4020.018       0.00      0.00      0.00         0\n",
      "            IT:ASVe:4020.036       1.00      1.00      1.00         1\n",
      "            IT:ASVe:4020.037       1.00      1.00      1.00         1\n",
      "            IT:ASVe:4020.040       1.00      1.00      1.00         1\n",
      "            IT:ASVe:4020.046       1.00      1.00      1.00         1\n",
      "            IT:ASVe:4020.050       1.00      1.00      1.00         1\n",
      "            IT:ASVe:4020.052       1.00      0.33      0.50         3\n",
      "            IT:ASVe:4020.056       0.00      0.00      0.00         1\n",
      "            IT:ASVe:4020.067       0.00      0.00      0.00         1\n",
      "                IT:ASVe:4025       1.00      1.00      1.00         3\n",
      "                IT:ASVe:4100       1.00      0.67      0.80         3\n",
      "                IT:ASVe:4105       0.89      0.80      0.84        10\n",
      "            IT:ASVe:4105.075       0.00      0.00      0.00         0\n",
      "                IT:ASVe:4110       0.88      1.00      0.93         7\n",
      "                IT:ASVe:4115       1.00      1.00      1.00         6\n",
      "                IT:ASVe:4120       0.85      0.92      0.88        12\n",
      "                IT:ASVe:4150       0.88      0.88      0.88         8\n",
      "                IT:ASVe:4300       0.83      0.71      0.76        34\n",
      "                IT:ASVe:4425       1.00      1.00      1.00         1\n",
      "                IT:ASVe:4510       1.00      1.00      1.00        30\n",
      "            IT:ASVe:4510.001       1.00      1.00      1.00         8\n",
      "                IT:ASVe:4515       1.00      0.67      0.80         3\n",
      "                IT:ASVe:4535       0.50      1.00      0.67         1\n",
      "                IT:ASVe:4590       0.93      0.93      0.93        14\n",
      "                IT:ASVe:4800       1.00      1.00      1.00         8\n",
      "            IT:ASVe:4800.003       0.75      1.00      0.86         3\n",
      "                IT:ASVe:4920       0.92      1.00      0.96        11\n",
      "                IT:ASVe:4930       1.00      0.96      0.98        27\n",
      "                IT:ASVe:4931       1.00      1.00      1.00        11\n",
      "                IT:ASVe:4933       1.00      1.00      1.00        13\n",
      "                IT:ASVe:4946       1.00      1.00      1.00         6\n",
      "                IT:ASVe:4950       1.00      1.00      1.00         6\n",
      "                IT:ASVe:4962       0.62      0.88      0.72        24\n",
      "                IT:ASVe:4964       1.00      1.00      1.00        14\n",
      "                IT:ASVe:4965       1.00      1.00      1.00        16\n",
      "                IT:ASVe:4966       0.67      0.50      0.57         4\n",
      "            IT:ASVe:4966.001       0.92      1.00      0.96        33\n",
      "            IT:ASVe:4966.003       0.50      1.00      0.67         1\n",
      "                IT:ASVe:4967       0.00      0.00      0.00         0\n",
      "            IT:ASVe:4975.010       0.00      0.00      0.00         1\n",
      "            IT:ASVe:4975.042       1.00      1.00      1.00         1\n",
      "            IT:ASVe:4975.045       1.00      1.00      1.00         1\n",
      "            IT:ASVe:4975.063       0.00      0.00      0.00         1\n",
      "            IT:ASVe:4975.084       0.00      0.00      0.00         0\n",
      "            IT:ASVe:4975.118       1.00      1.00      1.00         3\n",
      "                IT:ASVe:4981       1.00      1.00      1.00         1\n",
      "            IT:ASVe:4981.006       1.00      0.67      0.80         3\n",
      "                IT:ASVe:4982       1.00      1.00      1.00         8\n",
      "                IT:ASVe:4985       1.00      0.50      0.67         4\n",
      "                IT:ASVe:5105       0.50      1.00      0.67         1\n",
      "                IT:ASVe:5846       1.00      1.00      1.00         1\n",
      "                IT:ASVe:7031       0.67      1.00      0.80         2\n",
      "                IT:ASVe:7950       0.00      0.00      0.00         1\n",
      "    IT:ASVe:8000.001.008.005       1.00      1.00      1.00         2\n",
      "            IT:ASVe:8702.003       1.00      0.73      0.84        11\n",
      "                IT:ASVe:9500       1.00      1.00      1.00         1\n",
      "\n",
      "                 avg / total       0.93      0.93      0.93      5194\n",
      "\n"
     ]
    }
   ],
   "source": [
    "from sklearn import metrics\n",
    "print(metrics.classification_report(y_test, base_predicted))"
   ]
  },
  {
   "cell_type": "code",
   "execution_count": 49,
   "metadata": {
    "collapsed": true
   },
   "outputs": [],
   "source": [
    "# train final\n",
    "clf_final = Pipeline([('vect', CountVectorizer(ngram_range=(1,3))),\n",
    "                        ('tfidf', TfidfTransformer(use_idf=True)),\n",
    "                        ('clf', LinearSVC(C=1,dual=True))])\n",
    "clf_final = clf_final.fit(data_docs, data_targets)"
   ]
  },
  {
   "cell_type": "code",
   "execution_count": 50,
   "metadata": {
    "collapsed": false
   },
   "outputs": [
    {
     "data": {
      "text/plain": [
       "['models/asve_ids.pkl']"
      ]
     },
     "execution_count": 50,
     "metadata": {},
     "output_type": "execute_result"
    }
   ],
   "source": [
    "# persist model\n",
    "from sklearn.externals import joblib\n",
    "joblib.dump(clf_final, 'models/asve_ids.pkl')"
   ]
  },
  {
   "cell_type": "code",
   "execution_count": 53,
   "metadata": {
    "collapsed": false
   },
   "outputs": [
    {
     "data": {
      "text/plain": [
       "'IT:ASVe:0040.005.020'"
      ]
     },
     "execution_count": 53,
     "metadata": {},
     "output_type": "execute_result"
    }
   ],
   "source": [
    "clf_final.predict([\"ciao mamma\"])[0]"
   ]
  },
  {
   "cell_type": "code",
   "execution_count": null,
   "metadata": {
    "collapsed": true
   },
   "outputs": [],
   "source": []
  }
 ],
 "metadata": {
  "anaconda-cloud": {},
  "kernelspec": {
   "display_name": "Python [conda env:lb_main_analysis]",
   "language": "python",
   "name": "conda-env-lb_main_analysis-py"
  },
  "language_info": {
   "codemirror_mode": {
    "name": "ipython",
    "version": 3
   },
   "file_extension": ".py",
   "mimetype": "text/x-python",
   "name": "python",
   "nbconvert_exporter": "python",
   "pygments_lexer": "ipython3",
   "version": "3.5.2"
  }
 },
 "nbformat": 4,
 "nbformat_minor": 2
}
