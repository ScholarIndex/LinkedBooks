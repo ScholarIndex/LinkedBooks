{
 "cells": [
  {
   "cell_type": "code",
   "execution_count": 1,
   "metadata": {
    "collapsed": false,
    "deletable": true,
    "editable": true
   },
   "outputs": [],
   "source": [
    "%matplotlib inline\n",
    "import matplotlib.pyplot as plt\n",
    "plt.style.use('ggplot')\n",
    "\n",
    "# Eventually, for Anaconda warnings.\n",
    "# Can be commented out.\n",
    "import warnings\n",
    "warnings.filterwarnings(\"ignore\")\n",
    "\n",
    "%matplotlib inline\n",
    "%load_ext autoreload\n",
    "%autoreload 2"
   ]
  },
  {
   "cell_type": "code",
   "execution_count": 2,
   "metadata": {
    "collapsed": false,
    "deletable": true,
    "editable": true
   },
   "outputs": [],
   "source": [
    "# Load basic libraries\n",
    "import seaborn; seaborn.set()\n",
    "from itertools import chain\n",
    "import pickle, copy\n",
    "import numpy as np\n",
    "import scipy.stats\n",
    "from sklearn.metrics import make_scorer\n",
    "from sklearn.model_selection import cross_val_score, RandomizedSearchCV\n",
    "from sklearn_crfsuite import scorers, metrics"
   ]
  },
  {
   "cell_type": "code",
   "execution_count": 13,
   "metadata": {
    "collapsed": false,
    "deletable": true,
    "editable": true
   },
   "outputs": [
    {
     "name": "stdout",
     "output_type": "stream",
     "text": [
      "{'primary-full': 3185, 'secondary-full': 11757, 'meta-annotation': 5655, 'secondary-partial': 10462, 'primary-partial': 2221}\n",
      "{'primary-full': 3185, 'secondary-full': 14052, 'meta-annotation': 5656, 'secondary-partial': 13409, 'primary-partial': 2221}\n",
      "CPU times: user 26min 59s, sys: 44.1 s, total: 27min 43s\n",
      "Wall time: 28min 38s\n"
     ]
    }
   ],
   "source": [
    "%%time\n",
    "# Load data\n",
    "from data_loader import loader\n",
    "\n",
    "#bids = [\"LO10016101\",\"RAV0164473\",\"LO10015953\"]\n",
    "#data, report = loader(bids, use_journals=True, use_monographs=True, which_mongo=\"mongo_sand\", load_ann=True, prune_lines=True, verbose=True)\n",
    "data, report = loader(None, use_journals=True, use_monographs=True, which_mongo=\"mongo_sand\", load_ann=True, prune_lines=True, verbose=True)"
   ]
  },
  {
   "cell_type": "code",
   "execution_count": 14,
   "metadata": {
    "collapsed": true,
    "deletable": true,
    "editable": true
   },
   "outputs": [],
   "source": [
    "# Dump data for further reuse\n",
    "pickle.dump(data, open(\"data/test_data.p\", \"wb\"))\n",
    "pickle.dump(report, open(\"data/test_report.p\", \"wb\"))"
   ]
  },
  {
   "cell_type": "code",
   "execution_count": 3,
   "metadata": {
    "collapsed": false,
    "deletable": true,
    "editable": true
   },
   "outputs": [],
   "source": [
    "# Dump data for further reuse\n",
    "data = pickle.load(open(\"data/test_data.p\", \"rb\"))\n",
    "report = pickle.load(open(\"data/test_report.p\", \"rb\"))"
   ]
  },
  {
   "cell_type": "code",
   "execution_count": 4,
   "metadata": {
    "collapsed": false,
    "deletable": true,
    "editable": true
   },
   "outputs": [
    {
     "name": "stdout",
     "output_type": "stream",
     "text": [
      "{'avg annotated docs over total docs': 0.22308288148721922, 'total_general': 33280, 'total_annotations': 161691, 'positive_results': 1, 'total_general_per_class_m': {'primary-partial': 457, 'primary-full': 111, 'secondary-full': 6228, 'secondary-partial': 2072, 'meta-annotation': 2367}, 'total_general_per_class_nofilter': {'primary-partial': 2221, 'primary-full': 3185, 'secondary-full': 14052, 'secondary-partial': 13409, 'meta-annotation': 5656}, 'total_general_j': 22045, 'total_specific_per_class': defaultdict(<class 'int'>, {'parchment': 20, 'editor': 2978, 'pagination': 13985, 'notary': 160, 'archivalunit': 126, 'cartulation': 1540, 'box': 1597, 'website': 6, 'publicationnumber-year': 2264, 'fascicolo': 191, 'chapter': 88, 'author': 18300, 'year': 210, 'mazzo': 17, 'cedola': 9, 'abbreviation': 3309, 'table': 70, 'curator': 1, 'foliation': 1313, 'library': 479, 'registry': 979, 'publisher': 3048, 'other': 248, 'tomo': 418, 'publicationyear': 12393, 'citation': 11, 'conjunction': 4751, 'title': 22722, 'publicationspecifications': 1261, 'date': 2363, 'series': 449, 'folder': 530, 'appendix': 92, 'parte': 82, 'codex': 577, 'responsible': 12, 'archivalfond': 430, 'archivalseries': 346, 'protocollo': 14, 'volume': 3364, 'note': 582, 'publicationnumber': 622, 'archivalreference': 4277, 'period': 24, 'century': 4, 'column': 281, 'fond': 6, 'archive': 2633, 'filza': 415, 'abbreviatedtitle': 3346, 'voce': 77, 'publicationplace': 12064, 'attachment': 735, 'numbering': 2576, 'topicdate': 16}), 'total_general_m': 11235, 'avg annotated pages per annotated doc': 13.9375, 'total_general_per_class_j': {'primary-partial': 1764, 'primary-full': 3074, 'secondary-full': 5529, 'secondary-partial': 8390, 'meta-annotation': 3288}, 'avg annotated pages over total pages': 0.024620631279365042, 'total_specific': 128411, 'total_general_per_class': {'primary-partial': 2221, 'primary-full': 3185, 'secondary-full': 11757, 'secondary-partial': 10462, 'meta-annotation': 5655}, 'overall_documents': 1291}\n"
     ]
    }
   ],
   "source": [
    "print(report)"
   ]
  },
  {
   "cell_type": "code",
   "execution_count": 5,
   "metadata": {
    "collapsed": false,
    "deletable": true,
    "editable": true
   },
   "outputs": [
    {
     "name": "stdout",
     "output_type": "stream",
     "text": [
      "{'is_annotated': True, 'page_mongo_id': ObjectId('56d5a04afe768325f46b3c17'), 'page_id': 'RAV0164473-1953_137-page-0017', 'offsets': [(('(1)', 970, 973, 1, 13, 'RAV0164473'), (False, False, 'small'), ('', '', 'o', 'o')), (('Alberto', 973, 980, 2, 13, 'RAV0164473'), (False, False, 'small'), ('secondary-full', 'author', 'b', 'b-secondary-full')), (('Errera', 981, 987, 3, 13, 'RAV0164473'), (False, False, 'small'), ('secondary-full', 'author', 'i', 'i-secondary-full')), (('e', 988, 989, 4, 13, 'RAV0164473'), (False, False, 'small'), ('secondary-full', 'author', 'i', 'i-secondary-full')), (('Cesare', 990, 996, 5, 13, 'RAV0164473'), (False, False, 'small'), ('secondary-full', 'author', 'i', 'i-secondary-full')), (('Finzi,', 997, 1003, 6, 13, 'RAV0164473'), (False, False, 'small'), ('secondary-full', 'author', 'i', 'i-secondary-full')), (('La', 1004, 1006, 7, 13, 'RAV0164473'), (False, False, 'small'), ('secondary-full', 'title', 'i', 'i-secondary-full')), (('vita', 1007, 1011, 8, 13, 'RAV0164473'), (False, False, 'small'), ('secondary-full', 'title', 'i', 'i-secondary-full')), (('e', 1012, 1013, 9, 13, 'RAV0164473'), (False, False, 'small'), ('secondary-full', 'title', 'i', 'i-secondary-full')), (('i', 1014, 1015, 10, 13, 'RAV0164473'), (False, False, 'small'), ('secondary-full', 'title', 'i', 'i-secondary-full')), (('tempi', 1016, 1021, 11, 13, 'RAV0164473'), (False, False, 'small'), ('secondary-full', 'title', 'i', 'i-secondary-full')), (('di', 1022, 1024, 12, 13, 'RAV0164473'), (False, False, 'small'), ('secondary-full', 'title', 'i', 'i-secondary-full')), (('Daniele', 1025, 1032, 13, 13, 'RAV0164473'), (False, False, 'small'), ('secondary-full', 'title', 'i', 'i-secondary-full')), (('Manin', 1033, 1038, 14, 13, 'RAV0164473'), (False, False, 'small'), ('secondary-full', 'title', 'i', 'i-secondary-full')), (('(', 1038, 1039, 15, 13, 'RAV0164473'), (False, False, 'small'), ('secondary-full', 'title', 'i', 'i-secondary-full')), (('1804-1848', 1039, 1048, 16, 13, 'RAV0164473'), (False, False, 'small'), ('secondary-full', 'title', 'i', 'i-secondary-full')), (('),', 1048, 1050, 17, 13, 'RAV0164473'), (False, False, 'small'), ('secondary-full', 'title', 'i', 'i-secondary-full')), (('Venezia,', 1051, 1059, 18, 13, 'RAV0164473'), (False, False, 'small'), ('secondary-full', 'publicationplace', 'i', 'i-secondary-full')), (('Anto-', 1060, 1065, 19, 13, 'RAV0164473'), (False, False, 'small'), ('secondary-full', 'publisher', 'i', 'i-secondary-full')), (('nelli,', 1067, 1073, 1, 14, 'RAV0164473'), (False, False, 'small'), ('secondary-full', 'publisher', 'i', 'i-secondary-full')), (('1872,', 1074, 1079, 2, 14, 'RAV0164473'), (False, False, 'small'), ('secondary-full', 'publicationyear', 'i', 'i-secondary-full')), (('pp.', 1080, 1083, 3, 14, 'RAV0164473'), (False, False, 'small'), ('secondary-full', 'pagination', 'i', 'i-secondary-full')), (('129', 1084, 1087, 4, 14, 'RAV0164473'), (False, False, 'small'), ('secondary-full', 'pagination', 'i', 'i-secondary-full')), (('e', 1088, 1089, 5, 14, 'RAV0164473'), (False, False, 'small'), ('secondary-full', 'pagination', 'i', 'i-secondary-full')), (('seg.', 1090, 1094, 6, 14, 'RAV0164473'), (False, False, 'small'), ('secondary-full', 'pagination', 'e', 'e-secondary-full')), (('(2)Gabriele', 1096, 1107, 1, 15, 'RAV0164473'), (False, False, 'small'), ('', '', 'o', 'o')), (('Fantoni,', 1108, 1116, 2, 15, 'RAV0164473'), (False, False, 'small'), ('secondary-full', 'author', 'b', 'b-secondary-full')), (('I', 1117, 1118, 3, 15, 'RAV0164473'), (False, False, 'small'), ('secondary-full', 'title', 'i', 'i-secondary-full')), (('fasti', 1119, 1124, 4, 15, 'RAV0164473'), (False, False, 'small'), ('secondary-full', 'title', 'i', 'i-secondary-full')), (('della', 1125, 1130, 5, 15, 'RAV0164473'), (False, False, 'small'), ('secondary-full', 'title', 'i', 'i-secondary-full')), (('Guardia', 1131, 1138, 6, 15, 'RAV0164473'), (False, False, 'small'), ('secondary-full', 'title', 'i', 'i-secondary-full')), (('nazionale', 1139, 1148, 7, 15, 'RAV0164473'), (False, False, 'small'), ('secondary-full', 'title', 'i', 'i-secondary-full')), (('nel', 1149, 1152, 8, 15, 'RAV0164473'), (False, False, 'small'), ('secondary-full', 'title', 'i', 'i-secondary-full')), (('Veneto', 1153, 1159, 9, 15, 'RAV0164473'), (False, False, 'small'), ('secondary-full', 'title', 'i', 'i-secondary-full')), (('negli', 1160, 1165, 10, 15, 'RAV0164473'), (False, False, 'small'), ('secondary-full', 'title', 'i', 'i-secondary-full')), (('anni', 1166, 1170, 11, 15, 'RAV0164473'), (False, False, 'small'), ('secondary-full', 'title', 'i', 'i-secondary-full')), (('1848-49,', 1171, 1179, 12, 15, 'RAV0164473'), (False, False, 'small'), ('secondary-full', 'title', 'i', 'i-secondary-full')), (('seconda', 1179, 1186, 13, 15, 'RAV0164473'), (False, False, 'small'), ('secondary-full', 'publicationspecifications', 'i', 'i-secondary-full')), (('ediz.,', 1187, 1193, 14, 15, 'RAV0164473'), (False, False, 'small'), ('secondary-full', 'publicationspecifications', 'i', 'i-secondary-full')), (('Venezia,', 1195, 1203, 1, 16, 'RAV0164473'), (False, False, 'small'), ('secondary-full', 'publicationplace', 'i', 'i-secondary-full')), (('Grimaldo,', 1204, 1213, 2, 16, 'RAV0164473'), (False, False, 'small'), ('secondary-full', 'publisher', 'i', 'i-secondary-full')), (('1869,', 1214, 1219, 3, 16, 'RAV0164473'), (False, False, 'small'), ('secondary-full', 'publicationyear', 'i', 'i-secondary-full')), (('p.', 1220, 1222, 4, 16, 'RAV0164473'), (False, False, 'small'), ('secondary-full', 'pagination', 'i', 'i-secondary-full')), (('161.', 1223, 1227, 5, 16, 'RAV0164473'), (False, False, 'small'), ('secondary-full', 'pagination', 'e', 'e-secondary-full')), (('(4)A.', 1350, 1355, 1, 19, 'RAV0164473'), (False, False, 'small'), ('', '', 'o', 'o')), (('Pilot,', 1356, 1362, 2, 19, 'RAV0164473'), (False, False, 'small'), ('meta-annotation', 'author', 'b', 'b-meta-annotation')), (('Venezia', 1363, 1370, 3, 19, 'RAV0164473'), (False, False, 'small'), ('meta-annotation', 'title', 'i', 'i-meta-annotation')), (('dal', 1371, 1374, 4, 19, 'RAV0164473'), (False, False, 'small'), ('meta-annotation', 'title', 'i', 'i-meta-annotation')), (('1851', 1375, 1379, 5, 19, 'RAV0164473'), (False, False, 'small'), ('meta-annotation', 'title', 'i', 'i-meta-annotation')), (('al', 1380, 1382, 6, 19, 'RAV0164473'), (False, False, 'small'), ('meta-annotation', 'title', 'i', 'i-meta-annotation')), (('1866', 1383, 1387, 7, 19, 'RAV0164473'), (False, False, 'small'), ('meta-annotation', 'title', 'i', 'i-meta-annotation')), (('nei', 1388, 1391, 8, 19, 'RAV0164473'), (False, False, 'small'), ('meta-annotation', 'title', 'i', 'i-meta-annotation')), (('diari', 1392, 1397, 9, 19, 'RAV0164473'), (False, False, 'small'), ('meta-annotation', 'title', 'i', 'i-meta-annotation')), (('inediti', 1398, 1405, 10, 19, 'RAV0164473'), (False, False, 'small'), ('meta-annotation', 'title', 'i', 'i-meta-annotation')), (('del', 1406, 1409, 11, 19, 'RAV0164473'), (False, False, 'small'), ('meta-annotation', 'title', 'i', 'i-meta-annotation')), (('Cicogna,', 1410, 1418, 12, 19, 'RAV0164473'), (False, False, 'small'), ('meta-annotation', 'title', 'i', 'i-meta-annotation')), (('in', 1418, 1420, 13, 19, 'RAV0164473'), (False, False, 'small'), ('meta-annotation', 'conjunction', 'i', 'i-meta-annotation')), (('«', 1421, 1422, 14, 19, 'RAV0164473'), (False, False, 'small'), ('meta-annotation', 'title', 'i', 'i-meta-annotation')), (('Nuovo', 1423, 1428, 15, 19, 'RAV0164473'), (False, False, 'small'), ('meta-annotation', 'title', 'i', 'i-meta-annotation')), (('Arch.', 1429, 1434, 16, 19, 'RAV0164473'), (False, False, 'small'), ('meta-annotation', 'title', 'i', 'i-meta-annotation')), (('Veneto', 1435, 1441, 17, 19, 'RAV0164473'), (False, False, 'small'), ('meta-annotation', 'title', 'i', 'i-meta-annotation')), (('»,', 1442, 1444, 18, 19, 'RAV0164473'), (False, False, 'small'), ('meta-annotation', 'title', 'i', 'i-meta-annotation')), (('annata', 1445, 1451, 19, 19, 'RAV0164473'), (False, False, 'small'), ('meta-annotation', 'publicationyear', 'i', 'i-meta-annotation')), (('1916,', 1453, 1458, 1, 20, 'RAV0164473'), (False, False, 'small'), ('meta-annotation', 'publicationyear', 'i', 'i-meta-annotation')), (('P.', 1459, 1461, 2, 20, 'RAV0164473'), (False, False, 'small'), ('meta-annotation', 'parte', 'i', 'i-meta-annotation')), (('I,', 1462, 1464, 3, 20, 'RAV0164473'), (False, False, 'small'), ('meta-annotation', 'parte', 'i', 'i-meta-annotation')), (('p.', 1465, 1467, 4, 20, 'RAV0164473'), (False, False, 'small'), ('meta-annotation', 'pagination', 'i', 'i-meta-annotation')), (('445.', 1468, 1472, 5, 20, 'RAV0164473'), (False, False, 'small'), ('meta-annotation', 'pagination', 'e', 'e-meta-annotation'))], 'single_page_file_number': 17}\n"
     ]
    }
   ],
   "source": [
    "for doc in data:\n",
    "    for page in doc[\"pages\"].values():\n",
    "        if page[\"page_id\"]==\"RAV0164473-1953_137-page-0017\":\n",
    "            print(page)"
   ]
  },
  {
   "cell_type": "code",
   "execution_count": null,
   "metadata": {
    "collapsed": false,
    "deletable": true,
    "editable": true
   },
   "outputs": [],
   "source": [
    "# DUMP annotations in a json, for release\n",
    "# TODO: adapt this script to do use this dataset for annotations\n",
    "d_ann = list()\n",
    "for d in data:\n",
    "    d_copy = copy.deepcopy(d)\n",
    "    # delete mongo ids for the dump\n",
    "    del d_copy[\"doc_mongo_id\"]\n",
    "    for p in d_copy[\"pages\"].values():\n",
    "        del p[\"page_mongo_id\"]\n",
    "    d_copy[\"pages\"] = {k:p for k,p in d[\"pages\"].items() if p[\"is_annotated\"]} # only keep annotated pages\n",
    "    d_ann.append(d_copy)\n",
    "    \n",
    "import json\n",
    "with open('data/annotated_dataset.json', 'w+') as fp:\n",
    "    json.dump(d_ann, fp, sort_keys=True, indent=4)"
   ]
  },
  {
   "cell_type": "markdown",
   "metadata": {
    "deletable": true,
    "editable": true
   },
   "source": [
    "Tag consolidation to remove unfrequently used tags"
   ]
  },
  {
   "cell_type": "code",
   "execution_count": 6,
   "metadata": {
    "collapsed": true,
    "deletable": true,
    "editable": true
   },
   "outputs": [],
   "source": [
    "# Specific Tag consolidation\n",
    "correspondances = {\n",
    "    'abbreviatedtitle': 'title', #\n",
    "    'abbreviation': 'abbreviation', \n",
    "    'appendix': 'ref', #\n",
    "    'archivalfond': 'archivalreference', #\n",
    "    'archivalreference': 'archivalreference',\n",
    "    'archivalseries': 'archivalreference', #\n",
    "    'archivalunit': 'archivalreference', #\n",
    "    'archive': 'archive_lib', #\n",
    "    'attachment': 'attachment',\n",
    "    'author': 'author',\n",
    "    'box': 'box',\n",
    "    'cartulation': 'cartulation', \n",
    "    'cedola': 'ref', #\n",
    "    'century': 'date', #\n",
    "    'chapter': 'ref', #\n",
    "    'citation': 'ref', #\n",
    "    'codex': 'archivalreference', #\n",
    "    'column': 'column',\n",
    "    'conjunction': 'conjunction', \n",
    "    'curator': 'author', #\n",
    "    'date': 'date', \n",
    "    'editor': 'author', #\n",
    "    'fascicolo': 'folder', #\n",
    "    'filza': 'filza',\n",
    "    'folder': 'folder',\n",
    "    'foliation': 'foliation',\n",
    "    'fond': 'archivalreference', #\n",
    "    'implicit': '',\n",
    "    'library': 'archive_lib', #\n",
    "    'mazzo': 'ref', #\n",
    "    'notary': 'archivalreference', #\n",
    "    'note': 'numbered_ref', #\n",
    "    'numbering': 'numbered_ref', #\n",
    "    'other': '', #\n",
    "    'pagination': 'pagination',\n",
    "    'parchment': 'ref', #\n",
    "    'period': 'date', #\n",
    "    'protocollo': 'ref', #\n",
    "    'parte': 'ref', #\n",
    "    'publicationnumber': 'publicationnumber-year', #\n",
    "    'publicationnumber-year': 'publicationnumber-year',\n",
    "    'publicationplace': 'publicationplace',\n",
    "    'publicationspecifications': 'publicationspecifications',\n",
    "    'publicationyear': 'year', #\n",
    "    'publisher': 'publisher',\n",
    "    'registry': 'registry',\n",
    "    'responsible': 'author', #\n",
    "    'series': 'series',\n",
    "    'table': 'ref', #\n",
    "    'title': 'title',\n",
    "    'tomo': 'tomo',\n",
    "    'topicdate': 'publicationplace', #\n",
    "    'voce': 'ref', #\n",
    "    'volume': 'volume',\n",
    "    'website': 'ref', #\n",
    "    'year': 'year',\n",
    "    '': ''\n",
    "}\n",
    "\n",
    "# define supporting functions\n",
    "window = 2 # the window of dependance for the CRFs: use plus and minus that number as a context\n",
    "from feature_extraction_words import word2features, generate_featuresLight\n",
    "def text2features(text):\n",
    "    return [word2features(text, i, window = window) for i in range(len(text))]\n",
    "def text2featuresL(text):\n",
    "    return [word2features(text, i, window = window, feature_function=generate_featuresLight) for i in range(len(text))]\n",
    "\n",
    "# create beginend tags Y\n",
    "def text2labelsBE(text):\n",
    "    return [token[2][2] for token in text]\n",
    "\n",
    "# create tagged-beginend tags Y\n",
    "def text2labelsTBE(text):\n",
    "    return [token[2][3] for token in text]\n",
    "\n",
    "# create specific tags Y\n",
    "def text2labelsS(text):\n",
    "    return [correspondances[token[2][1]] for token in text]"
   ]
  },
  {
   "cell_type": "code",
   "execution_count": 7,
   "metadata": {
    "collapsed": false,
    "deletable": true,
    "editable": true
   },
   "outputs": [
    {
     "name": "stdout",
     "output_type": "stream",
     "text": [
      "287\n",
      "1291\n"
     ]
    }
   ],
   "source": [
    "# prepare annotated data for CRF\n",
    "annotated_data = list()\n",
    "for doc in data:\n",
    "    doc_data_ann = list()\n",
    "    for page in doc[\"pages\"].values():\n",
    "        if page[\"is_annotated\"]:\n",
    "            doc_data_ann.extend(page[\"offsets\"])\n",
    "    if len(doc_data_ann) > 0:\n",
    "        annotated_data.append(doc_data_ann)\n",
    "print(len(annotated_data))\n",
    "print(len(data))"
   ]
  },
  {
   "cell_type": "code",
   "execution_count": 8,
   "metadata": {
    "collapsed": false,
    "deletable": true,
    "editable": true
   },
   "outputs": [
    {
     "name": "stderr",
     "output_type": "stream",
     "text": [
      "/root/anaconda3/envs/lb_main_analysis/lib/python3.5/site-packages/sklearn/cross_validation.py:44: DeprecationWarning: This module was deprecated in version 0.18 in favor of the model_selection module into which all the refactored classes and functions are moved. Also note that the interface of the new CV iterators are different from that of this module. This module will be removed in 0.20.\n",
      "  \"This module will be removed in 0.20.\", DeprecationWarning)\n"
     ]
    },
    {
     "name": "stdout",
     "output_type": "stream",
     "text": [
      "CPU times: user 2min 11s, sys: 4.87 s, total: 2min 16s\n",
      "Wall time: 2min 16s\n"
     ]
    }
   ],
   "source": [
    "%%time\n",
    "# Define train and test sets\n",
    "from sklearn.model_selection import train_test_split\n",
    "d = [text2features(text) for text in annotated_data]\n",
    "l = [text2labelsS(text) for text in annotated_data]\n",
    "l_tbe = [text2labelsTBE(text) for text in annotated_data]\n",
    "# Clean tag space\n",
    "labels_to_keep = list(set([x for y in l for x in y]))\n",
    "labels_to_keep_tbe = list(set([x for y in l_tbe for x in y]))\n",
    "# VALIDATION set\n",
    "X_rest, X_valid, y_rest, y_valid = train_test_split(d, l, test_size=0.1)\n",
    "# TRAIN/TEST\n",
    "X_train, X_test, y_train, y_test = train_test_split(X_rest, y_rest, test_size=0.25)"
   ]
  },
  {
   "cell_type": "code",
   "execution_count": 9,
   "metadata": {
    "collapsed": false,
    "deletable": true,
    "editable": true
   },
   "outputs": [
    {
     "name": "stdout",
     "output_type": "stream",
     "text": [
      "{'': 79488, 'title': 174228, 'publicationplace': 12346, 'abbreviation': 4293, 'cartulation': 3544, 'archive_lib': 5306, 'year': 13005, 'publicationnumber-year': 5905, 'registry': 2211, 'folder': 1526, 'attachment': 5206, 'date': 6860, 'series': 844, 'tomo': 870, 'numbered_ref': 5708, 'foliation': 2825, 'volume': 5428, 'author': 48211, 'ref': 1335, 'filza': 846, 'box': 2670, 'column': 529, 'publisher': 7060, 'conjunction': 4707, 'pagination': 26127, 'archivalreference': 15248, 'publicationspecifications': 5572}\n",
      "{'b-primary-full': 3167, 'e-primary-partial': 2215, 'i-meta-annotation': 115126, 'b-primary-partial': 2160, 'b-secondary-full': 9007, 'i-secondary-partial': 36556, 'b-secondary-partial': 7064, 'i-primary-full': 31489, 'e-secondary-full': 9110, 'o': 78105, 'e-secondary-partial': 7124, 'i-secondary-full': 114937, 'e-meta-annotation': 5614, 'e-primary-full': 3180, 'i-primary-partial': 11457, 'b-meta-annotation': 5587}\n"
     ]
    }
   ],
   "source": [
    "# Count labels\n",
    "counts = {x:0 for x in labels_to_keep}\n",
    "for c in counts.keys():\n",
    "    counts[c] = len([x for y in l for x in y if x==c])\n",
    "print(counts)\n",
    "counts = {x:0 for x in labels_to_keep_tbe}\n",
    "for c in counts.keys():\n",
    "    counts[c] = len([x for y in l_tbe for x in y if x==c])\n",
    "print(counts)"
   ]
  },
  {
   "cell_type": "code",
   "execution_count": 36,
   "metadata": {
    "collapsed": false,
    "deletable": true,
    "editable": true
   },
   "outputs": [
    {
     "name": "stdout",
     "output_type": "stream",
     "text": [
      "                           precision    recall  f1-score   support\n",
      "\n",
      "                               0.811     0.846     0.828     20388\n",
      "         publicationplace      0.850     0.855     0.852      2897\n",
      "             numbered_ref      0.478     0.437     0.457      1166\n",
      "              cartulation      0.873     0.773     0.820       824\n",
      "publicationspecifications      0.584     0.273     0.372      1639\n",
      "             abbreviation      0.665     0.682     0.674      1050\n",
      "                      box      0.529     0.443     0.482       718\n",
      "   publicationnumber-year      0.835     0.733     0.781      1668\n",
      "                      ref      0.497     0.244     0.327       295\n",
      "                     tomo      0.541     0.219     0.311       151\n",
      "                    title      0.869     0.941     0.904     41425\n",
      "              archive_lib      0.866     0.783     0.822      1135\n",
      "                   folder      0.538     0.230     0.322       487\n",
      "               attachment      0.490     0.319     0.386      1321\n",
      "                publisher      0.856     0.688     0.763      2037\n",
      "                foliation      0.731     0.832     0.778       535\n",
      "                    filza      0.907     0.708     0.795       274\n",
      "                 registry      0.746     0.545     0.630       567\n",
      "               pagination      0.908     0.950     0.929      6535\n",
      "                   series      0.891     0.624     0.734       210\n",
      "        archivalreference      0.779     0.656     0.712      4361\n",
      "                     date      0.665     0.618     0.641      1774\n",
      "                   author      0.912     0.899     0.905     11697\n",
      "                     year      0.915     0.917     0.916      3028\n",
      "                   column      0.814     0.626     0.708        91\n",
      "              conjunction      0.877     0.677     0.764      1282\n",
      "                   volume      0.617     0.458     0.526      1139\n",
      "\n",
      "              avg / total      0.834     0.842     0.835    108694\n",
      "\n"
     ]
    }
   ],
   "source": [
    "# An example use of CRFs\n",
    "crf = sklearn_crfsuite.CRF( \n",
    "    algorithm='lbfgs',\n",
    "    c1=0.1,\n",
    "    c2=0.1,\n",
    "    max_iterations=100,\n",
    "    all_possible_transitions=False\n",
    ")\n",
    "crf.fit(X_train, y_train)\n",
    "y_pred = crf.predict(X_test)\n",
    "print(metrics.flat_classification_report(\n",
    "    y_test, y_pred, labels=labels_to_keep, digits=3\n",
    "))"
   ]
  },
  {
   "cell_type": "code",
   "execution_count": 19,
   "metadata": {
    "collapsed": false,
    "deletable": true,
    "editable": true
   },
   "outputs": [
    {
     "name": "stdout",
     "output_type": "stream",
     "text": [
      "Fitting 3 folds for each of 5 candidates, totalling 15 fits\n"
     ]
    },
    {
     "name": "stderr",
     "output_type": "stream",
     "text": [
      "[Parallel(n_jobs=-10)]: Done   2 out of  15 | elapsed: 17.1min remaining: 110.8min\n",
      "[Parallel(n_jobs=-10)]: Done  15 out of  15 | elapsed: 24.8min finished\n"
     ]
    },
    {
     "name": "stdout",
     "output_type": "stream",
     "text": [
      "CPU times: user 25min 15s, sys: 1min 17s, total: 26min 32s\n",
      "Wall time: 45min 35s\n"
     ]
    }
   ],
   "source": [
    "%%time\n",
    "# Parameters search\n",
    "crf = sklearn_crfsuite.CRF( \n",
    "    max_iterations=100,\n",
    "    algorithm = 'lbfgs',\n",
    "    all_possible_transitions=False\n",
    ")\n",
    "params_space = {\n",
    "    'c1': scipy.stats.expon(scale=0.5),\n",
    "    'c2': scipy.stats.expon(scale=0.05)\n",
    "}\n",
    "\n",
    "from sklearn.metrics import make_scorer\n",
    "from support_functions import BER\n",
    "scorer = make_scorer(metrics.flat_f1_score, \n",
    "                        average='weighted', labels=labels_to_keep)\n",
    "#scorer = make_scorer(BER, greater_is_better=True)\n",
    "\n",
    "# search\n",
    "rs = RandomizedSearchCV(crf, params_space, \n",
    "                        cv=3, \n",
    "                        verbose=1, \n",
    "                        n_jobs=-10, \n",
    "                        n_iter=5, \n",
    "                        scoring=scorer)\n",
    "rs.fit(X_train, y_train)"
   ]
  },
  {
   "cell_type": "code",
   "execution_count": 20,
   "metadata": {
    "collapsed": false,
    "deletable": true,
    "editable": true
   },
   "outputs": [
    {
     "name": "stdout",
     "output_type": "stream",
     "text": [
      "best params: {'c2': 0.17849696199496759, 'c1': 0.36042615370272441}\n",
      "best CV score: 0.842435998419\n"
     ]
    }
   ],
   "source": [
    "print('best params:', rs.best_params_)\n",
    "print('best CV score:', rs.best_score_)"
   ]
  },
  {
   "cell_type": "code",
   "execution_count": 21,
   "metadata": {
    "collapsed": false,
    "deletable": true,
    "editable": true
   },
   "outputs": [
    {
     "name": "stdout",
     "output_type": "stream",
     "text": [
      "Dark blue => 0.8365, dark red => 0.8424\n"
     ]
    },
    {
     "data": {
      "image/png": "[encoded data removed]",
      "text/plain": [
       "<matplotlib.figure.Figure at 0x7f70952d5048>"
      ]
     },
     "metadata": {},
     "output_type": "display_data"
    }
   ],
   "source": [
    "# Explore paramether space\n",
    "_x = [s.parameters['c1'] for s in rs.grid_scores_]\n",
    "_y = [s.parameters['c2'] for s in rs.grid_scores_]\n",
    "_c = [s.mean_validation_score for s in rs.grid_scores_]\n",
    "\n",
    "fig = plt.figure()\n",
    "fig.set_size_inches(12, 12)\n",
    "ax = plt.gca()\n",
    "ax.set_yscale('log')\n",
    "ax.set_xscale('log')\n",
    "ax.set_xlabel('C1')\n",
    "ax.set_ylabel('C2')\n",
    "ax.set_title(\"Randomized Hyperparameter Search CV Results (min={:0.3}, max={:0.3})\".format(\n",
    "    min(_c), max(_c)\n",
    "))\n",
    "\n",
    "ax.scatter(_x, _y, c=_c, s=60, alpha=0.9, edgecolors=[0,0,0])\n",
    "\n",
    "print(\"Dark blue => {:0.4}, dark red => {:0.4}\".format(min(_c), max(_c)))"
   ]
  },
  {
   "cell_type": "code",
   "execution_count": 22,
   "metadata": {
    "collapsed": false,
    "deletable": true,
    "editable": true,
    "scrolled": false
   },
   "outputs": [
    {
     "name": "stdout",
     "output_type": "stream",
     "text": [
      "                           precision    recall  f1-score   support\n",
      "\n",
      "                               0.835     0.874     0.854     24531\n",
      "             numbered_ref      0.561     0.403     0.469      1294\n",
      "                   folder      0.496     0.386     0.435       176\n",
      "              cartulation      0.921     0.894     0.907      1336\n",
      "             abbreviation      0.771     0.729     0.750      1063\n",
      "               attachment      0.198     0.203     0.200       474\n",
      "                 registry      0.695     0.806     0.747       459\n",
      "                      box      0.789     0.829     0.809       645\n",
      "                   volume      0.647     0.496     0.561      1250\n",
      "                     year      0.934     0.867     0.899      2871\n",
      "                    title      0.895     0.929     0.912     40419\n",
      "              conjunction      0.857     0.783     0.819       867\n",
      "publicationspecifications      0.479     0.448     0.463      1060\n",
      "               pagination      0.903     0.936     0.919      7290\n",
      "   publicationnumber-year      0.830     0.823     0.826      1144\n",
      "                publisher      0.794     0.557     0.655      1331\n",
      "                     tomo      0.386     0.176     0.242       153\n",
      "              archive_lib      0.830     0.724     0.773      1337\n",
      "                foliation      0.912     0.907     0.910       870\n",
      "        archivalreference      0.785     0.638     0.704      4083\n",
      "                    filza      0.949     0.732     0.827       127\n",
      "                     date      0.829     0.827     0.828      2338\n",
      "                      ref      0.563     0.202     0.297       421\n",
      "                   series      0.870     0.800     0.833       175\n",
      "         publicationplace      0.843     0.858     0.851      2532\n",
      "                   column      0.556     0.471     0.510       157\n",
      "                   author      0.901     0.885     0.893     10815\n",
      "\n",
      "              avg / total      0.855     0.859     0.855    109218\n",
      "\n",
      "[[21428    65     8    20   131   121    18    11    47    42  1491    62\n",
      "     76   263    15    13     3    35    17   130     0   143    44     0\n",
      "     25     2   321]\n",
      " [  286   522     2     3     1    11     5     2    34     5    35     4\n",
      "      9   104    25     0    11     0    17   151     0    11     6     0\n",
      "      1    39    10]\n",
      " [    7     3    68     0     0    27     1    38     2     0    14     0\n",
      "      0     0     7     0     0     0     0     8     0     1     0     0\n",
      "      0     0     0]\n",
      " [   85     0     0  1195     4     4     2     0     0     0     0     0\n",
      "      0     5     0     0     0     0    31     5     0     5     0     0\n",
      "      0     0     0]\n",
      " [   59     0     0    12   775     0     2     4     3     4   109     1\n",
      "      1    49     0     0     0     1     2    12     0     0     0     8\n",
      "      1     0    20]\n",
      " [  145     1     0     0     1    96     0     0     0     8    95     0\n",
      "      0     2     0     0     0     0     0    45     0    63     0     0\n",
      "      4     0    14]\n",
      " [   29     4     0     2     0     0   370     0     0     0     2     0\n",
      "      0     2     0     0     0     0     0    43     0     5     0     0\n",
      "      0     0     2]\n",
      " [   15     4    42     0     0     4     1   535     2     0     1     0\n",
      "      0    12     0     0     0     1     0    19     0     3     3     0\n",
      "      0     3     0]\n",
      " [   74    26     2     0     0     0    74     0   620     1   261     1\n",
      "     65     5    10     8    11     0     0    37     0    40     2     0\n",
      "      3     0    10]\n",
      " [  122     5     1     4     3     1     1     1     6  2489   119     1\n",
      "     19     6    66     3     0     0     0     3     0    11     2     0\n",
      "      1     0     7]\n",
      " [ 1205     5     0     5    44    97     0     1    99    33 37552    28\n",
      "    159   212    18    47     1    25     2    94     0    41     4     2\n",
      "    298    10   437]\n",
      " [   82     0     0     1     1     1     0     0     0     0    89   679\n",
      "      3     3     0     0     0     0     0     0     0     3     0     0\n",
      "      0     0     5]\n",
      " [  143     3     2     0     0     0     0     0    26    20   260     1\n",
      "    475     4    14    22     9    16     0     9     0     0     0    10\n",
      "     10     0    36]\n",
      " [  311    51     0     0    13     0     0     2     6     6    53     2\n",
      "      1  6822     6     0     1     0     0     0     0     7     3     0\n",
      "      0     4     2]\n",
      " [   28    56     1     0     0     0     0     0    26    22    22     0\n",
      "     18    16   941     2     4     1     0     0     0     5     0     1\n",
      "      1     0     0]\n",
      " [   28     0     0     0     0     0     0     0     5     2   418     0\n",
      "     56     0     1   741     0     3     0     2     0     0     0     0\n",
      "     42     0    33]\n",
      " [   13     4     0     0     0     7     0     0    18     0    60     0\n",
      "      3     3    10     0    27     0     0     4     0     0     0     0\n",
      "      0     0     4]\n",
      " [  158     1     0     3     1    24     1     2     0     0    45     0\n",
      "      4     0     0     3     0   968     0    66     0    14     0     0\n",
      "      1     0    46]\n",
      " [   52     5     0     5     0     3     0     0     4     0     0     0\n",
      "      0     6     0     0     0     0   789     2     2     2     0     0\n",
      "      0     0     0]\n",
      " [  502   119     6    44     4    28    52    80    25    21   315     7\n",
      "     13    10     0     6     1   113     3  2604     3    46     2     0\n",
      "      2     0    77]\n",
      " [    8     5     0     0     0     0     0     0     0     1     0     0\n",
      "      0     0     0     0     0     0     2    17    93     0     0     0\n",
      "      1     0     0]\n",
      " [  267    16     0     1    10    53     5     0     0     7     1     0\n",
      "      3     0     7     0     0     0     0    30     0  1933     0     0\n",
      "      1     0     4]\n",
      " [  135    29     0     0     6     4     0     0    20     0    96     4\n",
      "      5    20     3     0     0     1     0     2     0     0    85     0\n",
      "      3     1     7]\n",
      " [    0     0     0     0     0     0     0     0     2     0    16     0\n",
      "      7     0     8     0     2     0     0     0     0     0     0   140\n",
      "      0     0     0]\n",
      " [   49     3     0     0     0     2     0     0     9     4   181     0\n",
      "     41     0     3    48     0     1     0     0     0     0     0     0\n",
      "   2172     0    19]\n",
      " [   30     0     5     1     0     0     0     0     0     0     7     0\n",
      "      9    10     0     0     0     0     2    19     0     0     0     0\n",
      "      0    74     0]\n",
      " [  390     4     0     2    11     1     0     2     5     1   729     2\n",
      "     24     3     0    40     0     1     0    16     0     0     0     0\n",
      "      9     0  9575]]\n"
     ]
    },
    {
     "data": {
      "image/png": "[encoded data removed]",
      "text/plain": [
       "<matplotlib.figure.Figure at 0x7f7612a3cc18>"
      ]
     },
     "metadata": {},
     "output_type": "display_data"
    }
   ],
   "source": [
    "crf = rs.best_estimator_\n",
    "y_pred = crf.predict(X_test)\n",
    "print(metrics.flat_classification_report(\n",
    "    y_test, y_pred, labels=labels_to_keep, digits=3\n",
    "))\n",
    "# Confusion matrices\n",
    "from sklearn.metrics import confusion_matrix\n",
    "from support_functions import flatten_predictions\n",
    "\n",
    "print(confusion_matrix(flatten_predictions(y_test), flatten_predictions(y_pred), labels=labels_to_keep))\n",
    "plt.imshow(np.log(confusion_matrix(flatten_predictions(y_test), flatten_predictions(y_pred), labels=labels_to_keep)),\n",
    "           cmap='Blues', interpolation='nearest')\n",
    "plt.grid(False)\n",
    "plt.ylabel('Ground truth', fontsize=16)\n",
    "plt.xlabel('Predicted', fontsize=16)\n",
    "plt.xticks(np.arange(0, len(labels_to_keep), 1))\n",
    "plt.yticks(np.arange(0, len(labels_to_keep), 1))\n",
    "plt.title(\"Confusion Matrix Model 1\", fontsize=16)\n",
    "plt.savefig(\"plots/conf_M1_ALL.pdf\")\n",
    "#M = np.argsort(confusion_matrix(flatten_predictions(y_test), flatten_predictions(y_pred), labels=labels_to_keep), axis=1)\n",
    "#print(M[:,-5:])"
   ]
  },
  {
   "cell_type": "code",
   "execution_count": 11,
   "metadata": {
    "collapsed": false,
    "deletable": true,
    "editable": true
   },
   "outputs": [
    {
     "name": "stderr",
     "output_type": "stream",
     "text": [
      "/root/anaconda3/envs/lb_main_analysis/lib/python3.5/site-packages/sklearn/learning_curve.py:23: DeprecationWarning: This module was deprecated in version 0.18 in favor of the model_selection module into which all the functions are moved. This module will be removed in 0.20\n",
      "  DeprecationWarning)\n"
     ]
    },
    {
     "name": "stdout",
     "output_type": "stream",
     "text": [
      "5-fold validation mean:  0.853739175407\n",
      "5-fold validation mean:  0.319549720972\n"
     ]
    }
   ],
   "source": [
    "# K-fold validation\n",
    "from sklearn.model_selection import cross_val_score\n",
    "from support_functions import BER\n",
    "from sklearn.metrics import make_scorer\n",
    "scorer = make_scorer(metrics.flat_f1_score, \n",
    "                        average='weighted', labels=labels_to_keep)\n",
    "# use balanced error rate if all tags are equally important. Usually, this is not the case.\n",
    "scorer2 = make_scorer(BER, greater_is_better=True)\n",
    "\n",
    "# plug here your params, or use rs.best_params_\n",
    "crf = sklearn_crfsuite.CRF(\n",
    "    algorithm='lbfgs',\n",
    "    c2= 0.17849696199496759, c1= 0.36042615370272441,\n",
    "    max_iterations=200, \n",
    "    all_possible_transitions=True\n",
    ")\n",
    "k = 5\n",
    "\n",
    "cv = cross_val_score(crf, X_rest, y_rest, cv=k, scoring=scorer, n_jobs=-2)\n",
    "print(\"%d-fold validation mean: \"%k,cv.mean())\n",
    "#cv = cross_val_score(crf, X_rest, y_rest, cv=k, scoring=scorer2, n_jobs=-2)\n",
    "#print(\"%d-fold validation mean: \"%k,cv.mean())"
   ]
  },
  {
   "cell_type": "code",
   "execution_count": 9,
   "metadata": {
    "collapsed": false,
    "deletable": true,
    "editable": true
   },
   "outputs": [
    {
     "ename": "MemoryError",
     "evalue": "",
     "output_type": "error",
     "traceback": [
      "\u001b[0;31m---------------------------------------------------------------------------\u001b[0m",
      "\u001b[0;31mMemoryError\u001b[0m                               Traceback (most recent call last)",
      "\u001b[0;32m<ipython-input-9-f1068f736652>\u001b[0m in \u001b[0;36m<module>\u001b[0;34m()\u001b[0m\n\u001b[1;32m     16\u001b[0m     \u001b[0mall_possible_transitions\u001b[0m\u001b[0;34m=\u001b[0m\u001b[0;32mFalse\u001b[0m\u001b[0;34m\u001b[0m\u001b[0m\n\u001b[1;32m     17\u001b[0m )\n\u001b[0;32m---> 18\u001b[0;31m \u001b[0mplot_learning_curve\u001b[0m\u001b[0;34m(\u001b[0m\u001b[0mestimator\u001b[0m\u001b[0;34m,\u001b[0m \u001b[0mtitle\u001b[0m\u001b[0;34m,\u001b[0m \u001b[0mX_rest\u001b[0m\u001b[0;34m,\u001b[0m \u001b[0my_rest\u001b[0m\u001b[0;34m,\u001b[0m \u001b[0mlabels_to_keep\u001b[0m\u001b[0;34m,\u001b[0m \u001b[0mcv\u001b[0m\u001b[0;34m=\u001b[0m\u001b[0mcv\u001b[0m\u001b[0;34m,\u001b[0m \u001b[0mtrain_sizes\u001b[0m\u001b[0;34m=\u001b[0m\u001b[0mtrain_sizes\u001b[0m\u001b[0;34m,\u001b[0m \u001b[0mn_jobs\u001b[0m\u001b[0;34m=\u001b[0m\u001b[0;34m-\u001b[0m\u001b[0;36m20\u001b[0m\u001b[0;34m,\u001b[0m \u001b[0mmessage\u001b[0m\u001b[0;34m=\u001b[0m\u001b[0mmessage\u001b[0m\u001b[0;34m)\u001b[0m\u001b[0;34m\u001b[0m\u001b[0m\n\u001b[0m",
      "\u001b[0;32m/mnt/giovanni/lb_analysis/model_dev/support_functions.py\u001b[0m in \u001b[0;36mplot_learning_curve\u001b[0;34m(estimator, title, X, y, labels, ylim, cv, n_jobs, train_sizes, message)\u001b[0m\n\u001b[1;32m    139\u001b[0m     \u001b[0mscorer\u001b[0m \u001b[0;34m=\u001b[0m \u001b[0mmake_scorer\u001b[0m\u001b[0;34m(\u001b[0m\u001b[0mBER\u001b[0m\u001b[0;34m,\u001b[0m \u001b[0mgreater_is_better\u001b[0m\u001b[0;34m=\u001b[0m\u001b[0;32mTrue\u001b[0m\u001b[0;34m)\u001b[0m\u001b[0;34m\u001b[0m\u001b[0m\n\u001b[1;32m    140\u001b[0m     train_sizes, train_scores, test_scores = learning_curve(\n\u001b[0;32m--> 141\u001b[0;31m         estimator, X, y, cv=cv, n_jobs=n_jobs, train_sizes=train_sizes, scoring=scorer)\n\u001b[0m\u001b[1;32m    142\u001b[0m     \u001b[0mtrain_scores_mean\u001b[0m \u001b[0;34m=\u001b[0m \u001b[0mnp\u001b[0m\u001b[0;34m.\u001b[0m\u001b[0mmean\u001b[0m\u001b[0;34m(\u001b[0m\u001b[0mtrain_scores\u001b[0m\u001b[0;34m,\u001b[0m \u001b[0maxis\u001b[0m\u001b[0;34m=\u001b[0m\u001b[0;36m1\u001b[0m\u001b[0;34m)\u001b[0m\u001b[0;34m\u001b[0m\u001b[0m\n\u001b[1;32m    143\u001b[0m     \u001b[0mtrain_scores_std\u001b[0m \u001b[0;34m=\u001b[0m \u001b[0mnp\u001b[0m\u001b[0;34m.\u001b[0m\u001b[0mstd\u001b[0m\u001b[0;34m(\u001b[0m\u001b[0mtrain_scores\u001b[0m\u001b[0;34m,\u001b[0m \u001b[0maxis\u001b[0m\u001b[0;34m=\u001b[0m\u001b[0;36m1\u001b[0m\u001b[0;34m)\u001b[0m\u001b[0;34m\u001b[0m\u001b[0m\n",
      "\u001b[0;32m/root/anaconda3/envs/lb_main_analysis/lib/python3.5/site-packages/sklearn/model_selection/_validation.py\u001b[0m in \u001b[0;36mlearning_curve\u001b[0;34m(estimator, X, y, groups, train_sizes, cv, scoring, exploit_incremental_learning, n_jobs, pre_dispatch, verbose)\u001b[0m\n\u001b[1;32m    770\u001b[0m             \u001b[0mclone\u001b[0m\u001b[0;34m(\u001b[0m\u001b[0mestimator\u001b[0m\u001b[0;34m)\u001b[0m\u001b[0;34m,\u001b[0m \u001b[0mX\u001b[0m\u001b[0;34m,\u001b[0m \u001b[0my\u001b[0m\u001b[0;34m,\u001b[0m \u001b[0mscorer\u001b[0m\u001b[0;34m,\u001b[0m \u001b[0mtrain\u001b[0m\u001b[0;34m[\u001b[0m\u001b[0;34m:\u001b[0m\u001b[0mn_train_samples\u001b[0m\u001b[0;34m]\u001b[0m\u001b[0;34m,\u001b[0m \u001b[0mtest\u001b[0m\u001b[0;34m,\u001b[0m\u001b[0;34m\u001b[0m\u001b[0m\n\u001b[1;32m    771\u001b[0m             verbose, parameters=None, fit_params=None, return_train_score=True)\n\u001b[0;32m--> 772\u001b[0;31m             \u001b[0;32mfor\u001b[0m \u001b[0mtrain\u001b[0m\u001b[0;34m,\u001b[0m \u001b[0mtest\u001b[0m \u001b[0;32min\u001b[0m \u001b[0mcv_iter\u001b[0m\u001b[0;34m\u001b[0m\u001b[0m\n\u001b[0m\u001b[1;32m    773\u001b[0m             for n_train_samples in train_sizes_abs)\n\u001b[1;32m    774\u001b[0m         \u001b[0mout\u001b[0m \u001b[0;34m=\u001b[0m \u001b[0mnp\u001b[0m\u001b[0;34m.\u001b[0m\u001b[0marray\u001b[0m\u001b[0;34m(\u001b[0m\u001b[0mout\u001b[0m\u001b[0;34m)\u001b[0m\u001b[0;34m\u001b[0m\u001b[0m\n",
      "\u001b[0;32m/root/anaconda3/envs/lb_main_analysis/lib/python3.5/site-packages/sklearn/externals/joblib/parallel.py\u001b[0m in \u001b[0;36m__call__\u001b[0;34m(self, iterable)\u001b[0m\n\u001b[1;32m    766\u001b[0m                 \u001b[0;31m# consumption.\u001b[0m\u001b[0;34m\u001b[0m\u001b[0;34m\u001b[0m\u001b[0m\n\u001b[1;32m    767\u001b[0m                 \u001b[0mself\u001b[0m\u001b[0;34m.\u001b[0m\u001b[0m_iterating\u001b[0m \u001b[0;34m=\u001b[0m \u001b[0;32mFalse\u001b[0m\u001b[0;34m\u001b[0m\u001b[0m\n\u001b[0;32m--> 768\u001b[0;31m             \u001b[0mself\u001b[0m\u001b[0;34m.\u001b[0m\u001b[0mretrieve\u001b[0m\u001b[0;34m(\u001b[0m\u001b[0;34m)\u001b[0m\u001b[0;34m\u001b[0m\u001b[0m\n\u001b[0m\u001b[1;32m    769\u001b[0m             \u001b[0;31m# Make sure that we get a last message telling us we are done\u001b[0m\u001b[0;34m\u001b[0m\u001b[0;34m\u001b[0m\u001b[0m\n\u001b[1;32m    770\u001b[0m             \u001b[0melapsed_time\u001b[0m \u001b[0;34m=\u001b[0m \u001b[0mtime\u001b[0m\u001b[0;34m.\u001b[0m\u001b[0mtime\u001b[0m\u001b[0;34m(\u001b[0m\u001b[0;34m)\u001b[0m \u001b[0;34m-\u001b[0m \u001b[0mself\u001b[0m\u001b[0;34m.\u001b[0m\u001b[0m_start_time\u001b[0m\u001b[0;34m\u001b[0m\u001b[0m\n",
      "\u001b[0;32m/root/anaconda3/envs/lb_main_analysis/lib/python3.5/site-packages/sklearn/externals/joblib/parallel.py\u001b[0m in \u001b[0;36mretrieve\u001b[0;34m(self)\u001b[0m\n\u001b[1;32m    717\u001b[0m                     \u001b[0mensure_ready\u001b[0m \u001b[0;34m=\u001b[0m \u001b[0mself\u001b[0m\u001b[0;34m.\u001b[0m\u001b[0m_managed_backend\u001b[0m\u001b[0;34m\u001b[0m\u001b[0m\n\u001b[1;32m    718\u001b[0m                     \u001b[0mbackend\u001b[0m\u001b[0;34m.\u001b[0m\u001b[0mabort_everything\u001b[0m\u001b[0;34m(\u001b[0m\u001b[0mensure_ready\u001b[0m\u001b[0;34m=\u001b[0m\u001b[0mensure_ready\u001b[0m\u001b[0;34m)\u001b[0m\u001b[0;34m\u001b[0m\u001b[0m\n\u001b[0;32m--> 719\u001b[0;31m                 \u001b[0;32mraise\u001b[0m \u001b[0mexception\u001b[0m\u001b[0;34m\u001b[0m\u001b[0m\n\u001b[0m\u001b[1;32m    720\u001b[0m \u001b[0;34m\u001b[0m\u001b[0m\n\u001b[1;32m    721\u001b[0m     \u001b[0;32mdef\u001b[0m \u001b[0m__call__\u001b[0m\u001b[0;34m(\u001b[0m\u001b[0mself\u001b[0m\u001b[0;34m,\u001b[0m \u001b[0miterable\u001b[0m\u001b[0;34m)\u001b[0m\u001b[0;34m:\u001b[0m\u001b[0;34m\u001b[0m\u001b[0m\n",
      "\u001b[0;32m/root/anaconda3/envs/lb_main_analysis/lib/python3.5/site-packages/sklearn/externals/joblib/parallel.py\u001b[0m in \u001b[0;36mretrieve\u001b[0;34m(self)\u001b[0m\n\u001b[1;32m    680\u001b[0m                 \u001b[0;31m# check if timeout supported in backend future implementation\u001b[0m\u001b[0;34m\u001b[0m\u001b[0;34m\u001b[0m\u001b[0m\n\u001b[1;32m    681\u001b[0m                 \u001b[0;32mif\u001b[0m \u001b[0;34m'timeout'\u001b[0m \u001b[0;32min\u001b[0m \u001b[0mgetfullargspec\u001b[0m\u001b[0;34m(\u001b[0m\u001b[0mjob\u001b[0m\u001b[0;34m.\u001b[0m\u001b[0mget\u001b[0m\u001b[0;34m)\u001b[0m\u001b[0;34m.\u001b[0m\u001b[0margs\u001b[0m\u001b[0;34m:\u001b[0m\u001b[0;34m\u001b[0m\u001b[0m\n\u001b[0;32m--> 682\u001b[0;31m                     \u001b[0mself\u001b[0m\u001b[0;34m.\u001b[0m\u001b[0m_output\u001b[0m\u001b[0;34m.\u001b[0m\u001b[0mextend\u001b[0m\u001b[0;34m(\u001b[0m\u001b[0mjob\u001b[0m\u001b[0;34m.\u001b[0m\u001b[0mget\u001b[0m\u001b[0;34m(\u001b[0m\u001b[0mtimeout\u001b[0m\u001b[0;34m=\u001b[0m\u001b[0mself\u001b[0m\u001b[0;34m.\u001b[0m\u001b[0mtimeout\u001b[0m\u001b[0;34m)\u001b[0m\u001b[0;34m)\u001b[0m\u001b[0;34m\u001b[0m\u001b[0m\n\u001b[0m\u001b[1;32m    683\u001b[0m                 \u001b[0;32melse\u001b[0m\u001b[0;34m:\u001b[0m\u001b[0;34m\u001b[0m\u001b[0m\n\u001b[1;32m    684\u001b[0m                     \u001b[0mself\u001b[0m\u001b[0;34m.\u001b[0m\u001b[0m_output\u001b[0m\u001b[0;34m.\u001b[0m\u001b[0mextend\u001b[0m\u001b[0;34m(\u001b[0m\u001b[0mjob\u001b[0m\u001b[0;34m.\u001b[0m\u001b[0mget\u001b[0m\u001b[0;34m(\u001b[0m\u001b[0;34m)\u001b[0m\u001b[0;34m)\u001b[0m\u001b[0;34m\u001b[0m\u001b[0m\n",
      "\u001b[0;32m/root/anaconda3/envs/lb_main_analysis/lib/python3.5/multiprocessing/pool.py\u001b[0m in \u001b[0;36mget\u001b[0;34m(self, timeout)\u001b[0m\n\u001b[1;32m    606\u001b[0m             \u001b[0;32mreturn\u001b[0m \u001b[0mself\u001b[0m\u001b[0;34m.\u001b[0m\u001b[0m_value\u001b[0m\u001b[0;34m\u001b[0m\u001b[0m\n\u001b[1;32m    607\u001b[0m         \u001b[0;32melse\u001b[0m\u001b[0;34m:\u001b[0m\u001b[0;34m\u001b[0m\u001b[0m\n\u001b[0;32m--> 608\u001b[0;31m             \u001b[0;32mraise\u001b[0m \u001b[0mself\u001b[0m\u001b[0;34m.\u001b[0m\u001b[0m_value\u001b[0m\u001b[0;34m\u001b[0m\u001b[0m\n\u001b[0m\u001b[1;32m    609\u001b[0m \u001b[0;34m\u001b[0m\u001b[0m\n\u001b[1;32m    610\u001b[0m     \u001b[0;32mdef\u001b[0m \u001b[0m_set\u001b[0m\u001b[0;34m(\u001b[0m\u001b[0mself\u001b[0m\u001b[0;34m,\u001b[0m \u001b[0mi\u001b[0m\u001b[0;34m,\u001b[0m \u001b[0mobj\u001b[0m\u001b[0;34m)\u001b[0m\u001b[0;34m:\u001b[0m\u001b[0;34m\u001b[0m\u001b[0m\n",
      "\u001b[0;32m/root/anaconda3/envs/lb_main_analysis/lib/python3.5/multiprocessing/pool.py\u001b[0m in \u001b[0;36m_handle_tasks\u001b[0;34m(taskqueue, put, outqueue, pool, cache)\u001b[0m\n\u001b[1;32m    383\u001b[0m                         \u001b[0;32mbreak\u001b[0m\u001b[0;34m\u001b[0m\u001b[0m\n\u001b[1;32m    384\u001b[0m                     \u001b[0;32mtry\u001b[0m\u001b[0;34m:\u001b[0m\u001b[0;34m\u001b[0m\u001b[0m\n\u001b[0;32m--> 385\u001b[0;31m                         \u001b[0mput\u001b[0m\u001b[0;34m(\u001b[0m\u001b[0mtask\u001b[0m\u001b[0;34m)\u001b[0m\u001b[0;34m\u001b[0m\u001b[0m\n\u001b[0m\u001b[1;32m    386\u001b[0m                     \u001b[0;32mexcept\u001b[0m \u001b[0mException\u001b[0m \u001b[0;32mas\u001b[0m \u001b[0me\u001b[0m\u001b[0;34m:\u001b[0m\u001b[0;34m\u001b[0m\u001b[0m\n\u001b[1;32m    387\u001b[0m                         \u001b[0mjob\u001b[0m\u001b[0;34m,\u001b[0m \u001b[0mind\u001b[0m \u001b[0;34m=\u001b[0m \u001b[0mtask\u001b[0m\u001b[0;34m[\u001b[0m\u001b[0;34m:\u001b[0m\u001b[0;36m2\u001b[0m\u001b[0;34m]\u001b[0m\u001b[0;34m\u001b[0m\u001b[0m\n",
      "\u001b[0;32m/root/anaconda3/envs/lb_main_analysis/lib/python3.5/site-packages/sklearn/externals/joblib/pool.py\u001b[0m in \u001b[0;36msend\u001b[0;34m(obj)\u001b[0m\n\u001b[1;32m    369\u001b[0m             \u001b[0;32mdef\u001b[0m \u001b[0msend\u001b[0m\u001b[0;34m(\u001b[0m\u001b[0mobj\u001b[0m\u001b[0;34m)\u001b[0m\u001b[0;34m:\u001b[0m\u001b[0;34m\u001b[0m\u001b[0m\n\u001b[1;32m    370\u001b[0m                 \u001b[0mbuffer\u001b[0m \u001b[0;34m=\u001b[0m \u001b[0mBytesIO\u001b[0m\u001b[0;34m(\u001b[0m\u001b[0;34m)\u001b[0m\u001b[0;34m\u001b[0m\u001b[0m\n\u001b[0;32m--> 371\u001b[0;31m                 \u001b[0mCustomizablePickler\u001b[0m\u001b[0;34m(\u001b[0m\u001b[0mbuffer\u001b[0m\u001b[0;34m,\u001b[0m \u001b[0mself\u001b[0m\u001b[0;34m.\u001b[0m\u001b[0m_reducers\u001b[0m\u001b[0;34m)\u001b[0m\u001b[0;34m.\u001b[0m\u001b[0mdump\u001b[0m\u001b[0;34m(\u001b[0m\u001b[0mobj\u001b[0m\u001b[0;34m)\u001b[0m\u001b[0;34m\u001b[0m\u001b[0m\n\u001b[0m\u001b[1;32m    372\u001b[0m                 \u001b[0mself\u001b[0m\u001b[0;34m.\u001b[0m\u001b[0m_writer\u001b[0m\u001b[0;34m.\u001b[0m\u001b[0msend_bytes\u001b[0m\u001b[0;34m(\u001b[0m\u001b[0mbuffer\u001b[0m\u001b[0;34m.\u001b[0m\u001b[0mgetvalue\u001b[0m\u001b[0;34m(\u001b[0m\u001b[0;34m)\u001b[0m\u001b[0;34m)\u001b[0m\u001b[0;34m\u001b[0m\u001b[0m\n\u001b[1;32m    373\u001b[0m             \u001b[0mself\u001b[0m\u001b[0;34m.\u001b[0m\u001b[0m_send\u001b[0m \u001b[0;34m=\u001b[0m \u001b[0msend\u001b[0m\u001b[0;34m\u001b[0m\u001b[0m\n",
      "\u001b[0;31mMemoryError\u001b[0m: "
     ]
    },
    {
     "data": {
      "image/png": "[encoded data removed]",
      "text/plain": [
       "<matplotlib.figure.Figure at 0x7fd9f947c320>"
      ]
     },
     "metadata": {},
     "output_type": "display_data"
    }
   ],
   "source": [
    "# Learning curves\n",
    "# Watch out, this takes up a lot of primary memory\n",
    "from sklearn import cross_validation\n",
    "from support_functions import plot_learning_curve\n",
    "\n",
    "# Slices of data for learning curves\n",
    "train_sizes=np.linspace(0.1, 1.0, 10)\n",
    "title = \"Learning Curves for Model 1\"\n",
    "message = \"M1\"\n",
    "# Cross validation scheme with 80-20 splits and 5 iterations per train data size (to evaluate variance)\n",
    "cv = cross_validation.ShuffleSplit(len(X_rest), n_iter=3,\n",
    "                                   test_size=0.2, random_state=0)\n",
    "estimator = sklearn_crfsuite.CRF(\n",
    "    algorithm='lbfgs',\n",
    "    c2= 0.17849696199496759, c1= 0.36042615370272441,\n",
    "    max_iterations=100, \n",
    "    all_possible_transitions=False\n",
    ")\n",
    "plot_learning_curve(estimator, title, X_rest, y_rest, labels_to_keep, cv=cv, train_sizes=train_sizes, n_jobs=10, message=message)"
   ]
  },
  {
   "cell_type": "code",
   "execution_count": null,
   "metadata": {
    "collapsed": false,
    "deletable": true,
    "editable": true
   },
   "outputs": [
    {
     "name": "stdout",
     "output_type": "stream",
     "text": [
      "                           precision    recall  f1-score   support\n",
      "\n",
      "                               0.793     0.898     0.843      6915\n",
      "                publisher      0.866     0.708     0.779       787\n",
      "                   column      0.810     0.179     0.293        95\n",
      "                   folder      0.632     0.568     0.598       345\n",
      "                      box      0.470     0.377     0.419       167\n",
      "                    title      0.914     0.936     0.925     14248\n",
      "                   volume      0.575     0.500     0.535       344\n",
      "             numbered_ref      0.676     0.516     0.585       767\n",
      "                     date      0.745     0.852     0.795       815\n",
      "         publicationplace      0.887     0.904     0.896      1158\n",
      "   publicationnumber-year      0.808     0.781     0.794       420\n",
      "                   author      0.878     0.906     0.892      4297\n",
      "                 registry      0.861     0.377     0.524       247\n",
      "                foliation      0.866     0.936     0.900       518\n",
      "publicationspecifications      0.504     0.426     0.462       439\n",
      "        archivalreference      0.800     0.727     0.762      2072\n",
      "              conjunction      0.882     0.742     0.806       384\n",
      "                    filza      0.989     0.978     0.983       180\n",
      "                   series      0.970     0.681     0.800        47\n",
      "              cartulation      0.916     0.561     0.696       155\n",
      "                      ref      0.284     0.362     0.318        58\n",
      "               pagination      0.932     0.929     0.930      2064\n",
      "              archive_lib      0.881     0.780     0.828       952\n",
      "             abbreviation      0.763     0.736     0.749       250\n",
      "                     tomo      0.447     0.327     0.378       104\n",
      "               attachment      0.648     0.431     0.518       948\n",
      "                     year      0.943     0.895     0.919      1193\n",
      "\n",
      "              avg / total      0.851     0.854     0.850     39969\n",
      "\n",
      "CPU times: user 1h 51min 16s, sys: 1min, total: 1h 52min 16s\n",
      "Wall time: 1h 52min 16s\n"
     ]
    }
   ],
   "source": [
    "%%time\n",
    "# VALIDATION\n",
    "\n",
    "crf = sklearn_crfsuite.CRF( \n",
    "    algorithm='lbfgs',\n",
    "    c2= 0.17849696199496759, c1= 0.36042615370272441,\n",
    "    max_iterations=500,\n",
    "    all_possible_transitions=True\n",
    ")\n",
    "crf.fit(X_rest, y_rest)\n",
    "y_pred = crf.predict(X_valid)\n",
    "print(metrics.flat_classification_report(\n",
    "    y_valid, y_pred, labels=labels_to_keep, digits=3\n",
    "))"
   ]
  },
  {
   "cell_type": "code",
   "execution_count": null,
   "metadata": {
    "collapsed": false,
    "deletable": true,
    "editable": true
   },
   "outputs": [
    {
     "data": {
      "text/plain": [
       "['models/modelM1_ALL_L.pkl']"
      ]
     },
     "execution_count": 12,
     "metadata": {},
     "output_type": "execute_result"
    }
   ],
   "source": [
    "# Train final models for task 1\n",
    "crf = sklearn_crfsuite.CRF(\n",
    "    algorithm='lbfgs',\n",
    "    c2= 0.17849696199496759, c1= 0.36042615370272441,\n",
    "    max_iterations=500, \n",
    "    all_possible_transitions=True\n",
    ")\n",
    "crf.fit(d, l)\n",
    "\n",
    "# save model\n",
    "from sklearn.externals import joblib\n",
    "joblib.dump(crf,'models/modelM1_ALL_L.pkl')"
   ]
  },
  {
   "cell_type": "markdown",
   "metadata": {
    "deletable": true,
    "editable": true
   },
   "source": [
    "Apply model to new data. This needs to move outside of the notebook."
   ]
  },
  {
   "cell_type": "code",
   "execution_count": 10,
   "metadata": {
    "collapsed": true,
    "deletable": true,
    "editable": true
   },
   "outputs": [],
   "source": [
    "# load model\n",
    "from sklearn.externals import joblib\n",
    "crf1 = joblib.load('models/modelM1_ALL_L.pkl')"
   ]
  },
  {
   "cell_type": "code",
   "execution_count": 11,
   "metadata": {
    "collapsed": true,
    "deletable": true,
    "editable": true
   },
   "outputs": [],
   "source": [
    "def process_document(doc):\n",
    "    for page in doc[\"pages\"].values():\n",
    "        if not page[\"is_annotated\"]:\n",
    "            data_to_tag = [text2features(page[\"offsets\"])]\n",
    "            page_lab = crf1.predict(data_to_tag)\n",
    "            assert len(page_lab[0]) == len(page[\"offsets\"])\n",
    "            page.update({\"specific_tags\":page_lab[0]})\n",
    "        else:\n",
    "            page.update({\"specific_tags\":text2labelsS(page[\"offsets\"])})\n",
    "    return doc\n",
    "            \n",
    "from multiprocessing import Pool\n",
    "threads = Pool(45)"
   ]
  },
  {
   "cell_type": "code",
   "execution_count": 12,
   "metadata": {
    "collapsed": false,
    "deletable": true,
    "editable": true
   },
   "outputs": [],
   "source": [
    "# parse all\n",
    "data2 = list()\n",
    "for ar in threads.imap_unordered(process_document, data):\n",
    "    data2.append(ar)"
   ]
  },
  {
   "cell_type": "code",
   "execution_count": 13,
   "metadata": {
    "collapsed": true,
    "deletable": true,
    "editable": true
   },
   "outputs": [],
   "source": [
    "pickle.dump(data2, open(\"data/test_data.p\", \"wb\"))"
   ]
  }
 ],
 "metadata": {
  "anaconda-cloud": {},
  "kernelspec": {
   "display_name": "Python [conda env:lb_main_analysis]",
   "language": "python",
   "name": "conda-env-lb_main_analysis-py"
  },
  "language_info": {
   "codemirror_mode": {
    "name": "ipython",
    "version": 3
   },
   "file_extension": ".py",
   "mimetype": "text/x-python",
   "name": "python",
   "nbconvert_exporter": "python",
   "pygments_lexer": "ipython3",
   "version": "3.5.2"
  }
 },
 "nbformat": 4,
 "nbformat_minor": 0
}
