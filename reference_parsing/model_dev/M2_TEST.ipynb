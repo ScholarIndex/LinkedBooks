{
 "cells": [
  {
   "cell_type": "code",
   "execution_count": 1,
   "metadata": {
    "collapsed": false,
    "deletable": true,
    "editable": true
   },
   "outputs": [],
   "source": [
    "%matplotlib inline\n",
    "import matplotlib.pyplot as plt\n",
    "plt.style.use('ggplot')\n",
    "\n",
    "# Eventually, for Anaconda warnings.\n",
    "# Can be commented out.\n",
    "import warnings\n",
    "warnings.filterwarnings(\"ignore\")\n",
    "\n",
    "%matplotlib inline\n",
    "%load_ext autoreload\n",
    "%autoreload 2"
   ]
  },
  {
   "cell_type": "code",
   "execution_count": 2,
   "metadata": {
    "collapsed": false,
    "deletable": true,
    "editable": true
   },
   "outputs": [],
   "source": [
    "# Load basic libraries\n",
    "import seaborn; seaborn.set()\n",
    "from itertools import chain\n",
    "import nltk, pickle\n",
    "import numpy as np\n",
    "import sklearn\n",
    "import scipy.stats\n",
    "from sklearn.metrics import make_scorer\n",
    "from sklearn.model_selection import cross_val_score\n",
    "from sklearn.model_selection import RandomizedSearchCV #TODO: update to model_selection\n",
    "import sklearn_crfsuite\n",
    "from sklearn_crfsuite import scorers, metrics"
   ]
  },
  {
   "cell_type": "code",
   "execution_count": 15,
   "metadata": {
    "collapsed": false,
    "deletable": true,
    "editable": true
   },
   "outputs": [
    {
     "name": "stdout",
     "output_type": "stream",
     "text": [
      "1291\n"
     ]
    }
   ],
   "source": [
    "import pickle\n",
    "data = pickle.load(open(\"data/test_data.p\", \"rb\"))\n",
    "print(len(data))"
   ]
  },
  {
   "cell_type": "code",
   "execution_count": 16,
   "metadata": {
    "collapsed": true,
    "deletable": true,
    "editable": true
   },
   "outputs": [],
   "source": [
    "# Generic Tagged BE Tag consolidation\n",
    "correspondances = {\n",
    "    'b-primary-full': 'b-primary', \n",
    "     'e-primary-full': 'e-primary', \n",
    "     'b-meta-annotation': 'b-meta-annotation', \n",
    "     'b-meta-annotation': 'b-meta-annotation', \n",
    "     'i-meta-annotation': 'i-meta-annotation', \n",
    "     'i-secondary-full': 'i-secondary', \n",
    "     'i-primary-full': 'i-primary', \n",
    "     'e-meta-annotation': 'e-meta-annotation', \n",
    "     'e-primary-partial': 'e-primary', \n",
    "     'b-meta-annotation': 'b-meta-annotation', \n",
    "     'e-secondary-full': 'e-secondary', \n",
    "     'o': 'o', \n",
    "     'b-secondary-full': 'b-secondary', \n",
    "     'i-primary-partial': 'i-primary', \n",
    "     'i-meta-annotation': 'i-meta-annotation', \n",
    "     'i-secondary-partial': 'i-secondary', \n",
    "     'b-secondary-partial': 'b-secondary', \n",
    "     'e-secondary-partial': 'e-secondary', \n",
    "     'b-primary-partial': 'b-primary', \n",
    "     'e-meta-annotation': 'e-meta-annotation'\n",
    "}\n",
    "# define supporting functions\n",
    "window = 2\n",
    "from feature_extraction_words import word2features, generate_featuresLight\n",
    "def text2features(text):\n",
    "    return [word2features(text, i, window = window) for i in range(len(text))]\n",
    "def text2featuresL(text):\n",
    "    return [word2features(text, i, window = window, feature_function=generate_featuresLight) for i in range(len(text))]\n",
    "# With extra Specifc Tags. Adding specific tags improves performances\n",
    "def text2featuresEX(text, extra_labels):\n",
    "    return [word2features(text, i, extra_labels, window = window) for i in range(len(text))]\n",
    "def text2featuresLEX(text, extra_labels):\n",
    "    return [word2features(text, i, extra_labels, window = window, feature_function=generate_featuresLight) for i in range(len(text))]\n",
    "\n",
    "# create generic tags Y\n",
    "def text2labelsG(text):\n",
    "    return [correspondances[token[2][0]] for token in text]\n",
    "\n",
    "# create beginend tags Y\n",
    "def text2labelsBE(text):\n",
    "    return [token[2][2] for token in text]\n",
    "\n",
    "# create tagged-beginend tags Y\n",
    "def text2labelsTBE(text):\n",
    "    return [correspondances[token[2][3]] for token in text]\n",
    "\n",
    "# create specific tags Y\n",
    "def text2labelsS(text):\n",
    "    return [correspondances[token[2][1]] for token in text]"
   ]
  },
  {
   "cell_type": "code",
   "execution_count": 17,
   "metadata": {
    "collapsed": false,
    "deletable": true,
    "editable": true
   },
   "outputs": [
    {
     "name": "stdout",
     "output_type": "stream",
     "text": [
      "287\n",
      "1291\n"
     ]
    }
   ],
   "source": [
    "# prepare data for CRF\n",
    "annotated_data = list()\n",
    "annotated_labels = list()\n",
    "for doc in data:\n",
    "    ar_data_ann = list()\n",
    "    ar_labels_ann = list()\n",
    "    for page in doc[\"pages\"].values():\n",
    "        if page[\"is_annotated\"]:\n",
    "            ar_data_ann.extend(page[\"offsets\"])\n",
    "            ar_labels_ann.extend(page[\"specific_tags\"])\n",
    "    if len(ar_data_ann) > 0:\n",
    "        annotated_data.append(ar_data_ann)\n",
    "        annotated_labels.append(ar_labels_ann)\n",
    "print(len(annotated_data))\n",
    "print(len(data))"
   ]
  },
  {
   "cell_type": "code",
   "execution_count": 18,
   "metadata": {
    "collapsed": false,
    "deletable": true,
    "editable": true
   },
   "outputs": [
    {
     "name": "stdout",
     "output_type": "stream",
     "text": [
      "CPU times: user 2min 19s, sys: 9.91 s, total: 2min 29s\n",
      "Wall time: 2min 29s\n"
     ]
    }
   ],
   "source": [
    "%%time\n",
    "# Define train and test sets for experiments\n",
    "from sklearn.cross_validation import train_test_split\n",
    "d = [text2featuresEX(text, lab) for text, lab in zip(annotated_data, annotated_labels)]\n",
    "l = [text2labelsTBE(text) for text in annotated_data]\n",
    "# Clean tag space\n",
    "labels_to_keep = sorted(list(set([x for y in l for x in y])))\n",
    "# VALIDATION set\n",
    "X_rest, X_valid, y_rest, y_valid = train_test_split(d, l, test_size=0.1)\n",
    "# TRAIN/TEST\n",
    "X_train, X_test, y_train, y_test = train_test_split(X_rest, y_rest, test_size=0.25)"
   ]
  },
  {
   "cell_type": "code",
   "execution_count": 19,
   "metadata": {
    "collapsed": false,
    "deletable": true,
    "editable": true
   },
   "outputs": [
    {
     "name": "stdout",
     "output_type": "stream",
     "text": [
      "['i-primary', 'e-secondary', 'b-primary', 'o', 'i-meta-annotation', 'e-meta-annotation', 'b-meta-annotation', 'b-secondary', 'i-secondary', 'e-primary']\n",
      "{'i-primary': 42946, 'i-meta-annotation': 115126, 'e-primary': 5395, 'b-meta-annotation': 5587, 'b-secondary': 16071, 'b-primary': 5327, 'e-secondary': 16234, 'e-meta-annotation': 5614, 'i-secondary': 151493, 'o': 78105}\n"
     ]
    }
   ],
   "source": [
    "# Count labels\n",
    "counts = {x:0 for x in labels_to_keep}\n",
    "for c in counts.keys():\n",
    "    counts[c] = len([x for y in l for x in y if x==c])\n",
    "print(counts)"
   ]
  },
  {
   "cell_type": "code",
   "execution_count": 9,
   "metadata": {
    "collapsed": false,
    "deletable": true,
    "editable": true
   },
   "outputs": [
    {
     "name": "stdout",
     "output_type": "stream",
     "text": [
      "                   precision    recall  f1-score   support\n",
      "\n",
      "      b-secondary      0.787     0.860     0.822      3902\n",
      "                o      0.938     0.975     0.956     20795\n",
      "      i-secondary      0.784     0.876     0.828     34294\n",
      "e-meta-annotation      0.713     0.712     0.712      1300\n",
      "        b-primary      0.733     0.716     0.724      1160\n",
      "i-meta-annotation      0.866     0.735     0.795     27895\n",
      "        e-primary      0.812     0.784     0.798      1163\n",
      "b-meta-annotation      0.720     0.685     0.702      1297\n",
      "      e-secondary      0.807     0.854     0.830      3948\n",
      "        i-primary      0.889     0.790     0.837      9290\n",
      "\n",
      "      avg / total      0.845     0.842     0.841    105044\n",
      "\n"
     ]
    }
   ],
   "source": [
    "# An example use of CRFs\n",
    "crf = sklearn_crfsuite.CRF( \n",
    "    algorithm='lbfgs',\n",
    "    c1=0.1,\n",
    "    c2=0.1,\n",
    "    max_iterations=100,\n",
    "    all_possible_transitions=False\n",
    ")\n",
    "crf.fit(X_train, y_train)\n",
    "y_pred = crf.predict(X_test)\n",
    "print(metrics.flat_classification_report(\n",
    "    y_test, y_pred, labels=labels_to_keep, digits=3\n",
    "))"
   ]
  },
  {
   "cell_type": "code",
   "execution_count": 10,
   "metadata": {
    "collapsed": false,
    "deletable": true,
    "editable": true
   },
   "outputs": [
    {
     "name": "stdout",
     "output_type": "stream",
     "text": [
      "Fitting 3 folds for each of 5 candidates, totalling 15 fits\n"
     ]
    },
    {
     "name": "stderr",
     "output_type": "stream",
     "text": [
      "[Parallel(n_jobs=-10)]: Done   2 out of  15 | elapsed: 11.6min remaining: 75.6min\n",
      "[Parallel(n_jobs=-10)]: Done  15 out of  15 | elapsed: 18.3min finished\n"
     ]
    },
    {
     "name": "stdout",
     "output_type": "stream",
     "text": [
      "CPU times: user 17min 37s, sys: 1min 46s, total: 19min 24s\n",
      "Wall time: 30min 39s\n"
     ]
    }
   ],
   "source": [
    "%%time\n",
    "# Parameters search\n",
    "crf = sklearn_crfsuite.CRF( \n",
    "    max_iterations=100,\n",
    "    algorithm = 'lbfgs',\n",
    "    all_possible_transitions=False\n",
    ")\n",
    "params_space = {\n",
    "    'c1': scipy.stats.expon(scale=0.5),\n",
    "    'c2': scipy.stats.expon(scale=0.05)\n",
    "}\n",
    "\n",
    "from sklearn.metrics import make_scorer\n",
    "scorer = make_scorer(metrics.flat_f1_score, \n",
    "                        average='weighted', labels=labels_to_keep)\n",
    "\n",
    "# search\n",
    "rs = RandomizedSearchCV(crf, params_space, \n",
    "                        cv=3, \n",
    "                        verbose=1, \n",
    "                        n_jobs=-10, \n",
    "                        n_iter=5, \n",
    "                        scoring=scorer)\n",
    "rs.fit(X_train, y_train)"
   ]
  },
  {
   "cell_type": "code",
   "execution_count": 11,
   "metadata": {
    "collapsed": false,
    "deletable": true,
    "editable": true
   },
   "outputs": [
    {
     "name": "stdout",
     "output_type": "stream",
     "text": [
      "best params: {'c2': 0.024390658062424402, 'c1': 0.75837571972426676}\n",
      "best CV score: 0.886989491646\n"
     ]
    }
   ],
   "source": [
    "print('best params:', rs.best_params_)\n",
    "print('best CV score:', rs.best_score_)"
   ]
  },
  {
   "cell_type": "code",
   "execution_count": null,
   "metadata": {
    "collapsed": true,
    "deletable": true,
    "editable": true
   },
   "outputs": [],
   "source": [
    "# Explore paramether space\n",
    "_x = [s.parameters['c1'] for s in rs.grid_scores_]\n",
    "_y = [s.parameters['c2'] for s in rs.grid_scores_]\n",
    "_c = [s.mean_validation_score for s in rs.grid_scores_]\n",
    "\n",
    "fig = plt.figure()\n",
    "fig.set_size_inches(12, 12)\n",
    "ax = plt.gca()\n",
    "ax.set_yscale('log')\n",
    "ax.set_xscale('log')\n",
    "ax.set_xlabel('C1')\n",
    "ax.set_ylabel('C2')\n",
    "ax.set_title(\"Randomized Hyperparameter Search CV Results (min={:0.3}, max={:0.3})\".format(\n",
    "    min(_c), max(_c)\n",
    "))\n",
    "\n",
    "ax.scatter(_x, _y, c=_c, s=60, alpha=0.9, edgecolors=[0,0,0])\n",
    "\n",
    "print(\"Dark blue => {:0.4}, dark red => {:0.4}\".format(min(_c), max(_c)))"
   ]
  },
  {
   "cell_type": "code",
   "execution_count": 12,
   "metadata": {
    "collapsed": false,
    "deletable": true,
    "editable": true
   },
   "outputs": [
    {
     "name": "stdout",
     "output_type": "stream",
     "text": [
      "                   precision    recall  f1-score   support\n",
      "\n",
      "      b-secondary      0.810     0.874     0.841      3902\n",
      "                o      0.943     0.977     0.960     20795\n",
      "      i-secondary      0.811     0.873     0.841     34294\n",
      "e-meta-annotation      0.713     0.732     0.722      1300\n",
      "        b-primary      0.742     0.722     0.732      1160\n",
      "i-meta-annotation      0.868     0.778     0.820     27895\n",
      "        e-primary      0.832     0.817     0.824      1163\n",
      "b-meta-annotation      0.768     0.719     0.742      1297\n",
      "      e-secondary      0.821     0.862     0.841      3948\n",
      "        i-primary      0.882     0.795     0.836      9290\n",
      "\n",
      "      avg / total      0.856     0.855     0.854    105044\n",
      "\n",
      "[[ 3411    74    75     4    51    49     1   188    33    16]\n",
      " [   67 20308   147     9    13    91    16    26    41    77]\n",
      " [  198   440 29951    39     9  2970     9    11   134   533]\n",
      " [    1     9     3   952     0    25     4     1   305     0]\n",
      " [  127    96     5     0   838     5     1     2     1    85]\n",
      " [   69   142  5575    67     4 21709    10    54    81   184]\n",
      " [    1    39     2     6     1     0   950     0    81    83]\n",
      " [  301    17     7     2     6    23     0   932     8     1]\n",
      " [    7   106   106   219     0    44    55     0  3403     8]\n",
      " [   28   297  1077    38   207   106    96     0    57  7384]]\n"
     ]
    },
    {
     "data": {
      "image/png": "[encoded data removed]",
      "text/plain": [
       "<matplotlib.figure.Figure at 0x7fdb05c6db70>"
      ]
     },
     "metadata": {},
     "output_type": "display_data"
    }
   ],
   "source": [
    "crf = rs.best_estimator_\n",
    "y_pred = crf.predict(X_test)\n",
    "print(metrics.flat_classification_report(\n",
    "    y_test, y_pred, labels=labels_to_keep, digits=3\n",
    "))\n",
    "# Confusion matrices\n",
    "from sklearn.metrics import confusion_matrix\n",
    "from support_functions import flatten_predictions\n",
    "\n",
    "print(confusion_matrix(flatten_predictions(y_test), flatten_predictions(y_pred), labels=labels_to_keep))\n",
    "plt.imshow(np.log(confusion_matrix(flatten_predictions(y_test), flatten_predictions(y_pred), labels=labels_to_keep)),\n",
    "           cmap='Blues', interpolation='nearest')\n",
    "plt.grid(False)\n",
    "plt.ylabel('Ground truth', fontsize=16)\n",
    "plt.xlabel('Predicted', fontsize=16)\n",
    "plt.xticks(np.arange(0, len(labels_to_keep), 1))\n",
    "plt.yticks(np.arange(0, len(labels_to_keep), 1))\n",
    "plt.title(\"Confusion Matrix Model 2\", fontsize=16)\n",
    "plt.savefig(\"plots/conf_M2_ALL.pdf\")\n",
    "#M = np.argsort(confusion_matrix(flatten_predictions(y_test), flatten_predictions(y_pred), labels=labels_to_keep), axis=1)\n",
    "#print(M[:,-5:])"
   ]
  },
  {
   "cell_type": "code",
   "execution_count": 14,
   "metadata": {
    "collapsed": false,
    "deletable": true,
    "editable": true
   },
   "outputs": [
    {
     "name": "stdout",
     "output_type": "stream",
     "text": [
      "5-fold validation mean:  0.93050684343\n"
     ]
    }
   ],
   "source": [
    "# K-fold validation\n",
    "from sklearn.model_selection import cross_val_score\n",
    "from sklearn.metrics import make_scorer\n",
    "scorer = make_scorer(metrics.flat_f1_score, \n",
    "                        average='weighted', labels=labels_to_keep)\n",
    "# OR rs.best_params_\n",
    "crf = sklearn_crfsuite.CRF(\n",
    "    algorithm='lbfgs',\n",
    "    c2=0.024390658062424402, c1=0.75837571972426676,\n",
    "    max_iterations=200, \n",
    "    all_possible_transitions=True\n",
    ")\n",
    "k = 5\n",
    "\n",
    "cv = cross_val_score(crf, X_rest, y_rest, cv=k, scoring=scorer, n_jobs=-2)\n",
    "print(\"%d-fold validation mean: \"%k,cv.mean())"
   ]
  },
  {
   "cell_type": "code",
   "execution_count": null,
   "metadata": {
    "collapsed": true,
    "deletable": true,
    "editable": true
   },
   "outputs": [],
   "source": [
    "# Learning curves\n",
    "from sklearn import cross_validation\n",
    "from suppor_functions import plot_learning_curve\n",
    "\n",
    "# Slices of data for learning curves\n",
    "train_sizes=np.linspace(0.1, 1.0, 10)\n",
    "title = \"Learning Curves for Model 2\"\n",
    "message = \"M2\"\n",
    "# Cross validation scheme with 80-20 splits and 5 iterations per train data size (to evaluate variance)\n",
    "cv = cross_validation.ShuffleSplit(len(X_rest), n_iter=3,\n",
    "                                   test_size=0.2, random_state=0)\n",
    "\n",
    "estimator = sklearn_crfsuite.CRF(\n",
    "    algorithm='lbfgs',\n",
    "    c2=0.024390658062424402, c1=0.75837571972426676,\n",
    "    max_iterations=200, \n",
    "    all_possible_transitions=True\n",
    ")\n",
    "plot_learning_curve(estimator, title, X_rest, y_rest, labels_to_keep, cv=cv, train_sizes=train_sizes, n_jobs=-2, message=message)"
   ]
  },
  {
   "cell_type": "code",
   "execution_count": null,
   "metadata": {
    "collapsed": false,
    "deletable": true,
    "editable": true
   },
   "outputs": [
    {
     "name": "stdout",
     "output_type": "stream",
     "text": [
      "                   precision    recall  f1-score   support\n",
      "\n",
      "        i-primary      0.888     0.789     0.836       892\n",
      "      e-secondary      0.910     0.922     0.916      1286\n",
      "        b-primary      0.766     0.736     0.751       129\n",
      "                o      0.929     0.973     0.950      3385\n",
      "i-meta-annotation      0.973     0.912     0.942      7339\n",
      "e-meta-annotation      0.950     0.890     0.919       365\n",
      "b-meta-annotation      0.930     0.878     0.903       362\n",
      "      b-secondary      0.911     0.932     0.921      1271\n",
      "      i-secondary      0.944     0.971     0.957     13804\n",
      "        e-primary      0.780     0.767     0.773       129\n",
      "\n",
      "      avg / total      0.943     0.943     0.943     28962\n",
      "\n",
      "CPU times: user 1h 6min 54s, sys: 1min 22s, total: 1h 8min 17s\n",
      "Wall time: 1h 8min 34s\n"
     ]
    }
   ],
   "source": [
    "%%time\n",
    "# VALIDATION\n",
    "\n",
    "crf = sklearn_crfsuite.CRF( \n",
    "    algorithm='lbfgs',\n",
    "    c2=0.024390658062424402, c1=0.75837571972426676,\n",
    "    max_iterations=500,\n",
    "    all_possible_transitions=True\n",
    ")\n",
    "crf.fit(X_rest, y_rest)\n",
    "y_pred = crf.predict(X_valid)\n",
    "print(metrics.flat_classification_report(\n",
    "    y_valid, y_pred, labels=labels_to_keep, digits=3\n",
    "))"
   ]
  },
  {
   "cell_type": "code",
   "execution_count": null,
   "metadata": {
    "collapsed": false,
    "deletable": true,
    "editable": true
   },
   "outputs": [
    {
     "data": {
      "text/plain": [
       "['models/modelM2_ALL_L.pkl']"
      ]
     },
     "execution_count": 9,
     "metadata": {},
     "output_type": "execute_result"
    }
   ],
   "source": [
    "# Train final models for task 1\n",
    "crf = sklearn_crfsuite.CRF(\n",
    "    algorithm='lbfgs',\n",
    "    c2=0.024390658062424402, c1=0.75837571972426676,\n",
    "    max_iterations=500, \n",
    "    all_possible_transitions=True\n",
    ")\n",
    "crf.fit(d, l)\n",
    "\n",
    "# save model\n",
    "from sklearn.externals import joblib\n",
    "joblib.dump(crf,'models/modelM2_ALL_L.pkl')"
   ]
  },
  {
   "cell_type": "code",
   "execution_count": 20,
   "metadata": {
    "collapsed": true,
    "deletable": true,
    "editable": true
   },
   "outputs": [],
   "source": [
    "# load model\n",
    "from sklearn.externals import joblib\n",
    "crf1 = joblib.load('models/modelM2_ALL_L.pkl')"
   ]
  },
  {
   "cell_type": "code",
   "execution_count": 21,
   "metadata": {
    "collapsed": true,
    "deletable": true,
    "editable": true
   },
   "outputs": [],
   "source": [
    "def process_document(doc):\n",
    "    for page in doc[\"pages\"].values():\n",
    "        if not page[\"is_annotated\"]:\n",
    "            data_to_tag = [text2featuresEX(page[\"offsets\"],page[\"specific_tags\"])]\n",
    "            page_lab = crf.predict(data_to_tag)\n",
    "            assert len(page_lab[0]) == len(page[\"offsets\"])\n",
    "            page.update({\"BET_tags\":page_lab[0]})\n",
    "        else:\n",
    "            page.update({\"BET_tags\":text2labelsTBE(page[\"offsets\"])})\n",
    "    return doc\n",
    "            \n",
    "from multiprocessing import Pool\n",
    "threads = Pool(45)"
   ]
  },
  {
   "cell_type": "code",
   "execution_count": 22,
   "metadata": {
    "collapsed": true,
    "deletable": true,
    "editable": true
   },
   "outputs": [],
   "source": [
    "# parse all\n",
    "data2 = list()\n",
    "for ar in threads.imap_unordered(process_document, data):\n",
    "    data2.append(ar)"
   ]
  },
  {
   "cell_type": "code",
   "execution_count": 23,
   "metadata": {
    "collapsed": true,
    "deletable": true,
    "editable": true
   },
   "outputs": [],
   "source": [
    "import pickle\n",
    "pickle.dump(data2, open(\"data/test_data.p\", \"wb\"))"
   ]
  },
  {
   "cell_type": "markdown",
   "metadata": {},
   "source": [
    "UNA TANTUM ingest parsed references."
   ]
  },
  {
   "cell_type": "code",
   "execution_count": null,
   "metadata": {
    "collapsed": true,
    "deletable": true,
    "editable": true
   },
   "outputs": [],
   "source": [
    "# Export references\n",
    "# Dump json\n",
    "from support_functions import json_outputter\n",
    "_, refs, _ = json_outputter(data2,40)"
   ]
  },
  {
   "cell_type": "code",
   "execution_count": null,
   "metadata": {
    "collapsed": true,
    "deletable": true,
    "editable": true
   },
   "outputs": [],
   "source": [
    "issues_dict = list()\n",
    "# update processing collection\n",
    "# get all bids and issues just dumped\n",
    "for r in refs:\n",
    "    issues_dict.append((r[\"bid\"], r[\"issue\"]))\n",
    "\n",
    "valid_issues = list()\n",
    "for bid,issue in list(set(issues_dict)):\n",
    "    doc = db.processing.find_one({\"bid\":bid,\"number\":issue})\n",
    "    if not doc:\n",
    "        print(bid+\" \"+issue)\n",
    "        continue\n",
    "    if not doc[\"is_parsed\"]:\n",
    "        valid_issues.append((bid,issue))\n",
    "valid_issues = list(set(valid_issues))\n",
    "print(valid_issues)"
   ]
  },
  {
   "cell_type": "code",
   "execution_count": null,
   "metadata": {
    "collapsed": true
   },
   "outputs": [],
   "source": [
    "# clean refs\n",
    "refs_keep = list()\n",
    "for r in refs:\n",
    "    if (r[\"bid\"],r[\"issue\"]) in valid_issues:\n",
    "        refs_keep.append(r)\n",
    "    \n",
    "from pymongo import MongoClient\n",
    "# dump in Mongo\n",
    "con = MongoClient(\"128.178.60.49\")\n",
    "con.linkedbooks.authenticate('scripty', 'L1nk3dB00ks', source='admin')\n",
    "db = con.linkedbooks_sandbox\n",
    "db.references.insert_many(refs_keep)\n",
    "\n",
    "for bid,issue in valid_issues:\n",
    "    try:\n",
    "        db.processing.find_one_and_update({'bid': bid,'number':issue}, {'$set': {'is_parsed': True}})\n",
    "    except:\n",
    "        print(\"Missing item in Processing: %s, %s\"%(bid,issue))\n",
    "        continue"
   ]
  },
  {
   "cell_type": "code",
   "execution_count": null,
   "metadata": {
    "collapsed": true
   },
   "outputs": [],
   "source": [
    "[mongo_prod]\n",
    "db-host = 128.178.245.10\n",
    "db-name = linkedbooks_refactored\n",
    "db-port = 27017\n",
    "username = scripty\n",
    "password = L1nk3dB00ks\n",
    "auth-db = admin\n",
    "\n",
    "[mongo_dev]\n",
    "db-host = 128.178.60.49\n",
    "db-name = linkedbooks_refactored\n",
    "db-port = 27017\n",
    "username = scripty\n",
    "password = L1nk3dB00ks\n",
    "auth-db = admin\n",
    "\n",
    "[mongo_sand]\n",
    "db-host = 128.178.60.49\n",
    "db-name = linkedbooks_sandbox\n",
    "db-port = 27017\n",
    "username = scripty\n",
    "password = L1nk3dB00ks\n",
    "auth-db = admin\n",
    "\n",
    "[mongo_source]\n",
    "db-host = 128.178.60.49\n",
    "db-name = linkedbooks_dev\n",
    "db-port = 27017\n",
    "username = scripty\n",
    "password = L1nk3dB00ks\n",
    "auth-db = admin"
   ]
  }
 ],
 "metadata": {
  "anaconda-cloud": {},
  "kernelspec": {
   "display_name": "Python [conda env:lb_main_analysis]",
   "language": "python",
   "name": "conda-env-lb_main_analysis-py"
  },
  "language_info": {
   "codemirror_mode": {
    "name": "ipython",
    "version": 3
   },
   "file_extension": ".py",
   "mimetype": "text/x-python",
   "name": "python",
   "nbconvert_exporter": "python",
   "pygments_lexer": "ipython3",
   "version": "3.5.2"
  },
  "toc": {
   "colors": {
    "hover_highlight": "#DAA520",
    "navigate_num": "#000000",
    "navigate_text": "#333333",
    "running_highlight": "#FF0000",
    "selected_highlight": "#FFD700",
    "sidebar_border": "#EEEEEE",
    "wrapper_background": "#FFFFFF"
   },
   "moveMenuLeft": true,
   "nav_menu": {
    "height": "12px",
    "width": "252px"
   },
   "navigate_menu": true,
   "number_sections": true,
   "sideBar": true,
   "threshold": 4,
   "toc_cell": false,
   "toc_section_display": "block",
   "toc_window_display": false,
   "widenNotebook": false
  }
 },
 "nbformat": 4,
 "nbformat_minor": 2
}
